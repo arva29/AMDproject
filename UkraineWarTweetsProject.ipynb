{
  "nbformat": 4,
  "nbformat_minor": 0,
  "metadata": {
    "colab": {
      "provenance": [],
      "mount_file_id": "1NJglijpkoWM_5h5qeAff6FhtLu1w3nud",
      "authorship_tag": "ABX9TyOvolx5etH3qCX+o9QMSR1M",
      "include_colab_link": true
    },
    "kernelspec": {
      "name": "python3",
      "display_name": "Python 3"
    },
    "language_info": {
      "name": "python"
    }
  },
  "cells": [
    {
      "cell_type": "markdown",
      "metadata": {
        "id": "view-in-github",
        "colab_type": "text"
      },
      "source": [
        "<a href=\"https://colab.research.google.com/github/arva29/AMDproject/blob/main/UkraineWarTweetsProject.ipynb\" target=\"_parent\"><img src=\"https://colab.research.google.com/assets/colab-badge.svg\" alt=\"Open In Colab\"/></a>"
      ]
    },
    {
      "cell_type": "code",
      "source": [
        "# this is meant to be run on google colab\n",
        "\n",
        "!apt-get install openjdk-8-jdk-headless -qq > /dev/null\n",
        "#!wget -q http://www-eu.apache.org/dist/spark/spark-2.4.5/spark-2.4.5-bin-hadoop2.7.tgz\n",
        "!wget -q https://archive.apache.org/dist/spark/spark-2.4.5/spark-2.4.5-bin-hadoop2.7.tgz\n",
        "!tar xf spark-2.4.5-bin-hadoop2.7.tgz\n",
        "!pip install -q findspark"
      ],
      "metadata": {
        "id": "3U8gDVuMsaRK"
      },
      "execution_count": 2,
      "outputs": []
    },
    {
      "cell_type": "code",
      "source": [
        "import os\n",
        "os.environ[\"JAVA_HOME\"] = \"/usr/lib/jvm/java-8-openjdk-amd64\"\n",
        "os.environ[\"SPARK_HOME\"] = \"/content/spark-2.4.5-bin-hadoop2.7\"\n",
        "\n",
        "import findspark\n",
        "findspark.init(\"spark-2.4.5-bin-hadoop2.7\") #SPARK_HOME\n",
        "from pyspark.sql import SparkSession\n",
        "spark = SparkSession.builder.master(\"local[*]\").getOrCreate()\n",
        "\n",
        "sc = spark.sparkContext"
      ],
      "metadata": {
        "id": "9NE-kyYnseaE"
      },
      "execution_count": 3,
      "outputs": []
    },
    {
      "cell_type": "code",
      "source": [
        "from google.colab import files\n",
        "\n",
        "uploaded = files.upload()\n",
        "\n",
        "for fn in uploaded.keys():\n",
        "  print('User uploaded file \"{name}\" with length {length} bytes'.format(\n",
        "      name=fn, length=len(uploaded[fn])))\n",
        "  \n",
        "# Then move kaggle.json into the folder where the API expects to find it.\n",
        "!mkdir -p ~/.kaggle/ && mv kaggle.json ~/.kaggle/ && chmod 600 ~/.kaggle/kaggle.json"
      ],
      "metadata": {
        "colab": {
          "base_uri": "https://localhost:8080/",
          "height": 95
        },
        "id": "sQiCus2qkEwL",
        "outputId": "ba0d478c-d57c-4467-8036-c749bbef83ae"
      },
      "execution_count": 4,
      "outputs": [
        {
          "output_type": "display_data",
          "data": {
            "text/plain": [
              "<IPython.core.display.HTML object>"
            ],
            "text/html": [
              "\n",
              "     <input type=\"file\" id=\"files-7eb63d37-9652-41ae-8f00-139ef1d5c064\" name=\"files[]\" multiple disabled\n",
              "        style=\"border:none\" />\n",
              "     <output id=\"result-7eb63d37-9652-41ae-8f00-139ef1d5c064\">\n",
              "      Upload widget is only available when the cell has been executed in the\n",
              "      current browser session. Please rerun this cell to enable.\n",
              "      </output>\n",
              "      <script>// Copyright 2017 Google LLC\n",
              "//\n",
              "// Licensed under the Apache License, Version 2.0 (the \"License\");\n",
              "// you may not use this file except in compliance with the License.\n",
              "// You may obtain a copy of the License at\n",
              "//\n",
              "//      http://www.apache.org/licenses/LICENSE-2.0\n",
              "//\n",
              "// Unless required by applicable law or agreed to in writing, software\n",
              "// distributed under the License is distributed on an \"AS IS\" BASIS,\n",
              "// WITHOUT WARRANTIES OR CONDITIONS OF ANY KIND, either express or implied.\n",
              "// See the License for the specific language governing permissions and\n",
              "// limitations under the License.\n",
              "\n",
              "/**\n",
              " * @fileoverview Helpers for google.colab Python module.\n",
              " */\n",
              "(function(scope) {\n",
              "function span(text, styleAttributes = {}) {\n",
              "  const element = document.createElement('span');\n",
              "  element.textContent = text;\n",
              "  for (const key of Object.keys(styleAttributes)) {\n",
              "    element.style[key] = styleAttributes[key];\n",
              "  }\n",
              "  return element;\n",
              "}\n",
              "\n",
              "// Max number of bytes which will be uploaded at a time.\n",
              "const MAX_PAYLOAD_SIZE = 100 * 1024;\n",
              "\n",
              "function _uploadFiles(inputId, outputId) {\n",
              "  const steps = uploadFilesStep(inputId, outputId);\n",
              "  const outputElement = document.getElementById(outputId);\n",
              "  // Cache steps on the outputElement to make it available for the next call\n",
              "  // to uploadFilesContinue from Python.\n",
              "  outputElement.steps = steps;\n",
              "\n",
              "  return _uploadFilesContinue(outputId);\n",
              "}\n",
              "\n",
              "// This is roughly an async generator (not supported in the browser yet),\n",
              "// where there are multiple asynchronous steps and the Python side is going\n",
              "// to poll for completion of each step.\n",
              "// This uses a Promise to block the python side on completion of each step,\n",
              "// then passes the result of the previous step as the input to the next step.\n",
              "function _uploadFilesContinue(outputId) {\n",
              "  const outputElement = document.getElementById(outputId);\n",
              "  const steps = outputElement.steps;\n",
              "\n",
              "  const next = steps.next(outputElement.lastPromiseValue);\n",
              "  return Promise.resolve(next.value.promise).then((value) => {\n",
              "    // Cache the last promise value to make it available to the next\n",
              "    // step of the generator.\n",
              "    outputElement.lastPromiseValue = value;\n",
              "    return next.value.response;\n",
              "  });\n",
              "}\n",
              "\n",
              "/**\n",
              " * Generator function which is called between each async step of the upload\n",
              " * process.\n",
              " * @param {string} inputId Element ID of the input file picker element.\n",
              " * @param {string} outputId Element ID of the output display.\n",
              " * @return {!Iterable<!Object>} Iterable of next steps.\n",
              " */\n",
              "function* uploadFilesStep(inputId, outputId) {\n",
              "  const inputElement = document.getElementById(inputId);\n",
              "  inputElement.disabled = false;\n",
              "\n",
              "  const outputElement = document.getElementById(outputId);\n",
              "  outputElement.innerHTML = '';\n",
              "\n",
              "  const pickedPromise = new Promise((resolve) => {\n",
              "    inputElement.addEventListener('change', (e) => {\n",
              "      resolve(e.target.files);\n",
              "    });\n",
              "  });\n",
              "\n",
              "  const cancel = document.createElement('button');\n",
              "  inputElement.parentElement.appendChild(cancel);\n",
              "  cancel.textContent = 'Cancel upload';\n",
              "  const cancelPromise = new Promise((resolve) => {\n",
              "    cancel.onclick = () => {\n",
              "      resolve(null);\n",
              "    };\n",
              "  });\n",
              "\n",
              "  // Wait for the user to pick the files.\n",
              "  const files = yield {\n",
              "    promise: Promise.race([pickedPromise, cancelPromise]),\n",
              "    response: {\n",
              "      action: 'starting',\n",
              "    }\n",
              "  };\n",
              "\n",
              "  cancel.remove();\n",
              "\n",
              "  // Disable the input element since further picks are not allowed.\n",
              "  inputElement.disabled = true;\n",
              "\n",
              "  if (!files) {\n",
              "    return {\n",
              "      response: {\n",
              "        action: 'complete',\n",
              "      }\n",
              "    };\n",
              "  }\n",
              "\n",
              "  for (const file of files) {\n",
              "    const li = document.createElement('li');\n",
              "    li.append(span(file.name, {fontWeight: 'bold'}));\n",
              "    li.append(span(\n",
              "        `(${file.type || 'n/a'}) - ${file.size} bytes, ` +\n",
              "        `last modified: ${\n",
              "            file.lastModifiedDate ? file.lastModifiedDate.toLocaleDateString() :\n",
              "                                    'n/a'} - `));\n",
              "    const percent = span('0% done');\n",
              "    li.appendChild(percent);\n",
              "\n",
              "    outputElement.appendChild(li);\n",
              "\n",
              "    const fileDataPromise = new Promise((resolve) => {\n",
              "      const reader = new FileReader();\n",
              "      reader.onload = (e) => {\n",
              "        resolve(e.target.result);\n",
              "      };\n",
              "      reader.readAsArrayBuffer(file);\n",
              "    });\n",
              "    // Wait for the data to be ready.\n",
              "    let fileData = yield {\n",
              "      promise: fileDataPromise,\n",
              "      response: {\n",
              "        action: 'continue',\n",
              "      }\n",
              "    };\n",
              "\n",
              "    // Use a chunked sending to avoid message size limits. See b/62115660.\n",
              "    let position = 0;\n",
              "    do {\n",
              "      const length = Math.min(fileData.byteLength - position, MAX_PAYLOAD_SIZE);\n",
              "      const chunk = new Uint8Array(fileData, position, length);\n",
              "      position += length;\n",
              "\n",
              "      const base64 = btoa(String.fromCharCode.apply(null, chunk));\n",
              "      yield {\n",
              "        response: {\n",
              "          action: 'append',\n",
              "          file: file.name,\n",
              "          data: base64,\n",
              "        },\n",
              "      };\n",
              "\n",
              "      let percentDone = fileData.byteLength === 0 ?\n",
              "          100 :\n",
              "          Math.round((position / fileData.byteLength) * 100);\n",
              "      percent.textContent = `${percentDone}% done`;\n",
              "\n",
              "    } while (position < fileData.byteLength);\n",
              "  }\n",
              "\n",
              "  // All done.\n",
              "  yield {\n",
              "    response: {\n",
              "      action: 'complete',\n",
              "    }\n",
              "  };\n",
              "}\n",
              "\n",
              "scope.google = scope.google || {};\n",
              "scope.google.colab = scope.google.colab || {};\n",
              "scope.google.colab._files = {\n",
              "  _uploadFiles,\n",
              "  _uploadFilesContinue,\n",
              "};\n",
              "})(self);\n",
              "</script> "
            ]
          },
          "metadata": {}
        },
        {
          "output_type": "stream",
          "name": "stdout",
          "text": [
            "Saving kaggle.json to kaggle.json\n",
            "User uploaded file \"kaggle.json\" with length 70 bytes\n"
          ]
        }
      ]
    },
    {
      "cell_type": "code",
      "source": [
        "from google.colab import drive\n",
        "drive.mount('/content/drive')"
      ],
      "metadata": {
        "id": "vEQoIQyCtG1T"
      },
      "execution_count": null,
      "outputs": []
    },
    {
      "cell_type": "code",
      "source": [
        "!kaggle datasets download -d bwandowando/ukraine-russian-crisis-twitter-dataset-1-2-m-rows"
      ],
      "metadata": {
        "colab": {
          "base_uri": "https://localhost:8080/"
        },
        "id": "6kAPywJxlvnv",
        "outputId": "2e58c4f9-1546-45ce-ffb2-6124f46431fe"
      },
      "execution_count": 5,
      "outputs": [
        {
          "output_type": "stream",
          "name": "stdout",
          "text": [
            "Downloading ukraine-russian-crisis-twitter-dataset-1-2-m-rows.zip to /content\n",
            "100% 12.0G/12.0G [01:16<00:00, 200MB/s]\n",
            "100% 12.0G/12.0G [01:16<00:00, 169MB/s]\n"
          ]
        }
      ]
    },
    {
      "cell_type": "code",
      "source": [
        "!unzip ukraine-russian-crisis-twitter-dataset-1-2-m-rows.zip"
      ],
      "metadata": {
        "colab": {
          "base_uri": "https://localhost:8080/"
        },
        "id": "5sXasu1Km0rG",
        "outputId": "7304d815-8bf4-40b5-f22a-668f15d06198"
      },
      "execution_count": 6,
      "outputs": [
        {
          "output_type": "stream",
          "name": "stdout",
          "text": [
            "Archive:  ukraine-russian-crisis-twitter-dataset-1-2-m-rows.zip\n",
            "  inflating: 0819_UkraineCombinedTweetsDeduped.csv.gzip  \n",
            "  inflating: 0820_UkraineCombinedTweetsDeduped.csv.gzip  \n",
            "  inflating: 0821_UkraineCombinedTweetsDeduped.csv.gzip  \n",
            "  inflating: 0822_UkraineCombinedTweetsDeduped.csv.gzip  \n",
            "  inflating: 0823_UkraineCombinedTweetsDeduped.csv.gzip  \n",
            "  inflating: 0824_UkraineCombinedTweetsDeduped.csv.gzip  \n",
            "  inflating: 0825_UkraineCombinedTweetsDeduped.csv.gzip  \n",
            "  inflating: 0826_UkraineCombinedTweetsDeduped.csv.gzip  \n",
            "  inflating: 0827_UkraineCombinedTweetsDeduped.csv.gzip  \n",
            "  inflating: 0828_UkraineCombinedTweetsDeduped.csv.gzip  \n",
            "  inflating: 0829_UkraineCombinedTweetsDeduped.csv.gzip  \n",
            "  inflating: 0830_UkraineCombinedTweetsDeduped.csv.gzip  \n",
            "  inflating: 0831_UkraineCombinedTweetsDeduped.csv.gzip  \n",
            "  inflating: 0901_UkraineCombinedTweetsDeduped.csv.gzip  \n",
            "  inflating: 0902_UkraineCombinedTweetsDeduped.csv.gzip  \n",
            "  inflating: 0903_UkraineCombinedTweetsDeduped.csv.gzip  \n",
            "  inflating: 0904_UkraineCombinedTweetsDeduped.csv.gzip  \n",
            "  inflating: 0905_UkraineCombinedTweetsDeduped.csv.gzip  \n",
            "  inflating: 0906_UkraineCombinedTweetsDeduped.csv.gzip  \n",
            "  inflating: 0907_UkraineCombinedTweetsDeduped.csv.gzip  \n",
            "  inflating: 0908_UkraineCombinedTweetsDeduped.csv.gzip  \n",
            "  inflating: 0909_UkraineCombinedTweetsDeduped.csv.gzip  \n",
            "  inflating: 0910_UkraineCombinedTweetsDeduped.csv.gzip  \n",
            "  inflating: 0911_UkraineCombinedTweetsDeduped.csv.gzip  \n",
            "  inflating: 0912_UkraineCombinedTweetsDeduped.csv.gzip  \n",
            "  inflating: 0913_UkraineCombinedTweetsDeduped.csv.gzip  \n",
            "  inflating: 0914_UkraineCombinedTweetsDeduped.csv.gzip  \n",
            "  inflating: 0915_UkraineCombinedTweetsDeduped.csv.gzip  \n",
            "  inflating: 0916_UkraineCombinedTweetsDeduped.csv.gzip  \n",
            "  inflating: 0917_UkraineCombinedTweetsDeduped.csv.gzip  \n",
            "  inflating: 0918_UkraineCombinedTweetsDeduped.csv.gzip  \n",
            "  inflating: 0919_UkraineCombinedTweetsDeduped.csv.gzip  \n",
            "  inflating: 0921_UkraineCombinedTweetsDeduped.csv.gzip  \n",
            "  inflating: UkraineWar/UkraineWar/0401_UkraineCombinedTweetsDeduped.csv.gzip  \n",
            "  inflating: UkraineWar/UkraineWar/0402_UkraineCombinedTweetsDeduped.csv.gzip  \n",
            "  inflating: UkraineWar/UkraineWar/0403_UkraineCombinedTweetsDeduped.csv.gzip  \n",
            "  inflating: UkraineWar/UkraineWar/0404_UkraineCombinedTweetsDeduped.csv.gzip  \n",
            "  inflating: UkraineWar/UkraineWar/0405_UkraineCombinedTweetsDeduped.csv.gzip  \n",
            "  inflating: UkraineWar/UkraineWar/0406_UkraineCombinedTweetsDeduped.csv.gzip  \n",
            "  inflating: UkraineWar/UkraineWar/0407_UkraineCombinedTweetsDeduped.csv.gzip  \n",
            "  inflating: UkraineWar/UkraineWar/0408_UkraineCombinedTweetsDeduped.csv.gzip  \n",
            "  inflating: UkraineWar/UkraineWar/0409_UkraineCombinedTweetsDeduped.csv.gzip  \n",
            "  inflating: UkraineWar/UkraineWar/0410_UkraineCombinedTweetsDeduped.csv.gzip  \n",
            "  inflating: UkraineWar/UkraineWar/0411_UkraineCombinedTweetsDeduped.csv.gzip  \n",
            "  inflating: UkraineWar/UkraineWar/0412_UkraineCombinedTweetsDeduped.csv.gzip  \n",
            "  inflating: UkraineWar/UkraineWar/0413_UkraineCombinedTweetsDeduped.csv.gzip  \n",
            "  inflating: UkraineWar/UkraineWar/0414_UkraineCombinedTweetsDeduped.csv.gzip  \n",
            "  inflating: UkraineWar/UkraineWar/0415_UkraineCombinedTweetsDeduped.csv.gzip  \n",
            "  inflating: UkraineWar/UkraineWar/0416_UkraineCombinedTweetsDeduped.csv.gzip  \n",
            "  inflating: UkraineWar/UkraineWar/0417_UkraineCombinedTweetsDeduped.csv.gzip  \n",
            "  inflating: UkraineWar/UkraineWar/0418_UkraineCombinedTweetsDeduped.csv.gzip  \n",
            "  inflating: UkraineWar/UkraineWar/0419_UkraineCombinedTweetsDeduped.csv.gzip  \n",
            "  inflating: UkraineWar/UkraineWar/0420_UkraineCombinedTweetsDeduped.csv.gzip  \n",
            "  inflating: UkraineWar/UkraineWar/0421_UkraineCombinedTweetsDeduped.csv.gzip  \n",
            "  inflating: UkraineWar/UkraineWar/0422_UkraineCombinedTweetsDeduped.csv.gzip  \n",
            "  inflating: UkraineWar/UkraineWar/0423_UkraineCombinedTweetsDeduped.csv.gzip  \n",
            "  inflating: UkraineWar/UkraineWar/0424_UkraineCombinedTweetsDeduped.csv.gzip  \n",
            "  inflating: UkraineWar/UkraineWar/0425_UkraineCombinedTweetsDeduped.csv.gzip  \n",
            "  inflating: UkraineWar/UkraineWar/0426_UkraineCombinedTweetsDeduped.csv.gzip  \n",
            "  inflating: UkraineWar/UkraineWar/0427_UkraineCombinedTweetsDeduped.csv.gzip  \n",
            "  inflating: UkraineWar/UkraineWar/0428_UkraineCombinedTweetsDeduped.csv.gzip  \n",
            "  inflating: UkraineWar/UkraineWar/0429_UkraineCombinedTweetsDeduped.csv.gzip  \n",
            "  inflating: UkraineWar/UkraineWar/0430_UkraineCombinedTweetsDeduped.csv.gzip  \n",
            "  inflating: UkraineWar/UkraineWar/0501_UkraineCombinedTweetsDeduped.csv.gzip  \n",
            "  inflating: UkraineWar/UkraineWar/0502_UkraineCombinedTweetsDeduped.csv.gzip  \n",
            "  inflating: UkraineWar/UkraineWar/0503_UkraineCombinedTweetsDeduped.csv.gzip  \n",
            "  inflating: UkraineWar/UkraineWar/0504_UkraineCombinedTweetsDeduped.csv.gzip  \n",
            "  inflating: UkraineWar/UkraineWar/0505_to_0507_UkraineCombinedTweetsDeduped.csv.gzip  \n",
            "  inflating: UkraineWar/UkraineWar/0508_UkraineCombinedTweetsDeduped.csv.gzip  \n",
            "  inflating: UkraineWar/UkraineWar/0509_UkraineCombinedTweetsDeduped.csv.gzip  \n",
            "  inflating: UkraineWar/UkraineWar/0510_UkraineCombinedTweetsDeduped.csv.gzip  \n",
            "  inflating: UkraineWar/UkraineWar/0511_UkraineCombinedTweetsDeduped.csv.gzip  \n",
            "  inflating: UkraineWar/UkraineWar/0512_UkraineCombinedTweetsDeduped.csv.gzip  \n",
            "  inflating: UkraineWar/UkraineWar/0513_UkraineCombinedTweetsDeduped.csv.gzip  \n",
            "  inflating: UkraineWar/UkraineWar/0514_UkraineCombinedTweetsDeduped.csv.gzip  \n",
            "  inflating: UkraineWar/UkraineWar/0515_UkraineCombinedTweetsDeduped.csv.gzip  \n",
            "  inflating: UkraineWar/UkraineWar/0516_UkraineCombinedTweetsDeduped.csv.gzip  \n",
            "  inflating: UkraineWar/UkraineWar/0517_UkraineCombinedTweetsDeduped.csv.gzip  \n",
            "  inflating: UkraineWar/UkraineWar/0518_UkraineCombinedTweetsDeduped.csv.gzip  \n",
            "  inflating: UkraineWar/UkraineWar/0519_UkraineCombinedTweetsDeduped.csv.gzip  \n",
            "  inflating: UkraineWar/UkraineWar/0520_UkraineCombinedTweetsDeduped.csv.gzip  \n",
            "  inflating: UkraineWar/UkraineWar/0521_UkraineCombinedTweetsDeduped.csv.gzip  \n",
            "  inflating: UkraineWar/UkraineWar/0522_UkraineCombinedTweetsDeduped.csv.gzip  \n",
            "  inflating: UkraineWar/UkraineWar/0523_UkraineCombinedTweetsDeduped.csv.gzip  \n",
            "  inflating: UkraineWar/UkraineWar/0524_UkraineCombinedTweetsDeduped.csv.gzip  \n",
            "  inflating: UkraineWar/UkraineWar/0525_UkraineCombinedTweetsDeduped.csv.gzip  \n",
            "  inflating: UkraineWar/UkraineWar/0526_UkraineCombinedTweetsDeduped.csv.gzip  \n",
            "  inflating: UkraineWar/UkraineWar/0527_UkraineCombinedTweetsDeduped.csv.gzip  \n",
            "  inflating: UkraineWar/UkraineWar/0528_UkraineCombinedTweetsDeduped.csv.gzip  \n",
            "  inflating: UkraineWar/UkraineWar/0529_UkraineCombinedTweetsDeduped.csv.gzip  \n",
            "  inflating: UkraineWar/UkraineWar/0530_UkraineCombinedTweetsDeduped.csv.gzip  \n",
            "  inflating: UkraineWar/UkraineWar/0531_UkraineCombinedTweetsDeduped.csv.gzip  \n",
            "  inflating: UkraineWar/UkraineWar/0601_UkraineCombinedTweetsDeduped.csv.gzip  \n",
            "  inflating: UkraineWar/UkraineWar/0602_UkraineCombinedTweetsDeduped.csv.gzip  \n",
            "  inflating: UkraineWar/UkraineWar/0603_UkraineCombinedTweetsDeduped.csv.gzip  \n",
            "  inflating: UkraineWar/UkraineWar/0604_UkraineCombinedTweetsDeduped.csv.gzip  \n",
            "  inflating: UkraineWar/UkraineWar/0605_UkraineCombinedTweetsDeduped.csv.gzip  \n",
            "  inflating: UkraineWar/UkraineWar/0606_to_08_UkraineCombinedTweetsDeduped.csv.gzip  \n",
            "  inflating: UkraineWar/UkraineWar/0609_UkraineCombinedTweetsDeduped.csv.gzip  \n",
            "  inflating: UkraineWar/UkraineWar/0610_UkraineCombinedTweetsDeduped.csv.gzip  \n",
            "  inflating: UkraineWar/UkraineWar/0611_UkraineCombinedTweetsDeduped.csv.gzip  \n",
            "  inflating: UkraineWar/UkraineWar/0612_UkraineCombinedTweetsDeduped.csv.gzip  \n",
            "  inflating: UkraineWar/UkraineWar/0613_UkraineCombinedTweetsDeduped.csv.gzip  \n",
            "  inflating: UkraineWar/UkraineWar/0614_UkraineCombinedTweetsDeduped.csv.gzip  \n",
            "  inflating: UkraineWar/UkraineWar/0615_UkraineCombinedTweetsDeduped.csv.gzip  \n",
            "  inflating: UkraineWar/UkraineWar/0616_UkraineCombinedTweetsDeduped.csv.gzip  \n",
            "  inflating: UkraineWar/UkraineWar/0617_UkraineCombinedTweetsDeduped.csv.gzip  \n",
            "  inflating: UkraineWar/UkraineWar/0618_UkraineCombinedTweetsDeduped.csv.gzip  \n",
            "  inflating: UkraineWar/UkraineWar/0619_UkraineCombinedTweetsDeduped.csv.gzip  \n",
            "  inflating: UkraineWar/UkraineWar/0620_UkraineCombinedTweetsDeduped.csv.gzip  \n",
            "  inflating: UkraineWar/UkraineWar/0621_UkraineCombinedTweetsDeduped.csv.gzip  \n",
            "  inflating: UkraineWar/UkraineWar/0622_UkraineCombinedTweetsDeduped.csv.gzip  \n",
            "  inflating: UkraineWar/UkraineWar/0623_UkraineCombinedTweetsDeduped.csv.gzip  \n",
            "  inflating: UkraineWar/UkraineWar/0624_UkraineCombinedTweetsDeduped.csv.gzip  \n",
            "  inflating: UkraineWar/UkraineWar/0625_UkraineCombinedTweetsDeduped.csv.gzip  \n",
            "  inflating: UkraineWar/UkraineWar/0626_UkraineCombinedTweetsDeduped.csv.gzip  \n",
            "  inflating: UkraineWar/UkraineWar/0627_UkraineCombinedTweetsDeduped.csv.gzip  \n",
            "  inflating: UkraineWar/UkraineWar/0628_UkraineCombinedTweetsDeduped.csv.gzip  \n",
            "  inflating: UkraineWar/UkraineWar/0629_UkraineCombinedTweetsDeduped.csv.gzip  \n",
            "  inflating: UkraineWar/UkraineWar/0630_UkraineCombinedTweetsDeduped.csv.gzip  \n",
            "  inflating: UkraineWar/UkraineWar/0701_UkraineCombinedTweetsDeduped.csv.gzip  \n",
            "  inflating: UkraineWar/UkraineWar/0702_UkraineCombinedTweetsDeduped.csv.gzip  \n",
            "  inflating: UkraineWar/UkraineWar/0703_UkraineCombinedTweetsDeduped.csv.gzip  \n",
            "  inflating: UkraineWar/UkraineWar/0704_UkraineCombinedTweetsDeduped.csv.gzip  \n",
            "  inflating: UkraineWar/UkraineWar/0705_UkraineCombinedTweetsDeduped.csv.gzip  \n",
            "  inflating: UkraineWar/UkraineWar/0706_UkraineCombinedTweetsDeduped.csv.gzip  \n",
            "  inflating: UkraineWar/UkraineWar/0707_UkraineCombinedTweetsDeduped.csv.gzip  \n",
            "  inflating: UkraineWar/UkraineWar/0708_UkraineCombinedTweetsDeduped.csv.gzip  \n",
            "  inflating: UkraineWar/UkraineWar/0709_UkraineCombinedTweetsDeduped.csv.gzip  \n",
            "  inflating: UkraineWar/UkraineWar/0710_UkraineCombinedTweetsDeduped.csv.gzip  \n",
            "  inflating: UkraineWar/UkraineWar/0711_UkraineCombinedTweetsDeduped.csv.gzip  \n",
            "  inflating: UkraineWar/UkraineWar/0712_UkraineCombinedTweetsDeduped.csv.gzip  \n",
            "  inflating: UkraineWar/UkraineWar/0713_UkraineCombinedTweetsDeduped.csv.gzip  \n",
            "  inflating: UkraineWar/UkraineWar/0714_UkraineCombinedTweetsDeduped.csv.gzip  \n",
            "  inflating: UkraineWar/UkraineWar/0715_UkraineCombinedTweetsDeduped.csv.gzip  \n",
            "  inflating: UkraineWar/UkraineWar/0716_UkraineCombinedTweetsDeduped.csv.gzip  \n",
            "  inflating: UkraineWar/UkraineWar/0717_UkraineCombinedTweetsDeduped.csv.gzip  \n",
            "  inflating: UkraineWar/UkraineWar/0718_UkraineCombinedTweetsDeduped.csv.gzip  \n",
            "  inflating: UkraineWar/UkraineWar/0719_UkraineCombinedTweetsDeduped.csv.gzip  \n",
            "  inflating: UkraineWar/UkraineWar/0720_UkraineCombinedTweetsDeduped.csv.gzip  \n",
            "  inflating: UkraineWar/UkraineWar/0721_UkraineCombinedTweetsDeduped.csv.gzip  \n",
            "  inflating: UkraineWar/UkraineWar/0722_UkraineCombinedTweetsDeduped.csv.gzip  \n",
            "  inflating: UkraineWar/UkraineWar/0723_UkraineCombinedTweetsDeduped.csv.gzip  \n",
            "  inflating: UkraineWar/UkraineWar/0724_UkraineCombinedTweetsDeduped.csv.gzip  \n",
            "  inflating: UkraineWar/UkraineWar/0725_UkraineCombinedTweetsDeduped.csv.gzip  \n",
            "  inflating: UkraineWar/UkraineWar/0726_UkraineCombinedTweetsDeduped.csv.gzip  \n",
            "  inflating: UkraineWar/UkraineWar/0727_UkraineCombinedTweetsDeduped.csv.gzip  \n",
            "  inflating: UkraineWar/UkraineWar/0728_UkraineCombinedTweetsDeduped.csv.gzip  \n",
            "  inflating: UkraineWar/UkraineWar/0729_UkraineCombinedTweetsDeduped.csv.gzip  \n",
            "  inflating: UkraineWar/UkraineWar/0730_UkraineCombinedTweetsDeduped.csv.gzip  \n",
            "  inflating: UkraineWar/UkraineWar/0731_UkraineCombinedTweetsDeduped.csv.gzip  \n",
            "  inflating: UkraineWar/UkraineWar/0801_UkraineCombinedTweetsDeduped.csv.gzip  \n",
            "  inflating: UkraineWar/UkraineWar/0802_UkraineCombinedTweetsDeduped.csv.gzip  \n",
            "  inflating: UkraineWar/UkraineWar/0803_UkraineCombinedTweetsDeduped.csv.gzip  \n",
            "  inflating: UkraineWar/UkraineWar/0804_UkraineCombinedTweetsDeduped.csv.gzip  \n",
            "  inflating: UkraineWar/UkraineWar/0805_UkraineCombinedTweetsDeduped.csv.gzip  \n",
            "  inflating: UkraineWar/UkraineWar/0806_UkraineCombinedTweetsDeduped.csv.gzip  \n",
            "  inflating: UkraineWar/UkraineWar/0807_UkraineCombinedTweetsDeduped.csv.gzip  \n",
            "  inflating: UkraineWar/UkraineWar/0808_UkraineCombinedTweetsDeduped.csv.gzip  \n",
            "  inflating: UkraineWar/UkraineWar/0809_UkraineCombinedTweetsDeduped.csv.gzip  \n",
            "  inflating: UkraineWar/UkraineWar/0810_UkraineCombinedTweetsDeduped.csv.gzip  \n",
            "  inflating: UkraineWar/UkraineWar/0811_UkraineCombinedTweetsDeduped.csv.gzip  \n",
            "  inflating: UkraineWar/UkraineWar/0812_UkraineCombinedTweetsDeduped.csv.gzip  \n",
            "  inflating: UkraineWar/UkraineWar/0813_UkraineCombinedTweetsDeduped.csv.gzip  \n",
            "  inflating: UkraineWar/UkraineWar/0814_UkraineCombinedTweetsDeduped.csv.gzip  \n",
            "  inflating: UkraineWar/UkraineWar/0815_UkraineCombinedTweetsDeduped.csv.gzip  \n",
            "  inflating: UkraineWar/UkraineWar/0816_UkraineCombinedTweetsDeduped.csv.gzip  \n",
            "  inflating: UkraineWar/UkraineWar/0817_UkraineCombinedTweetsDeduped.csv.gzip  \n",
            "  inflating: UkraineWar/UkraineWar/0818_UkraineCombinedTweetsDeduped.csv.gzip  \n",
            "  inflating: UkraineWar/UkraineWar/UkraineCombinedTweetsDeduped20220227-131611.csv.gzip  \n",
            "  inflating: UkraineWar/UkraineWar/UkraineCombinedTweetsDeduped_FEB27.csv.gzip  \n",
            "  inflating: UkraineWar/UkraineWar/UkraineCombinedTweetsDeduped_FEB28_part1.csv.gzip  \n",
            "  inflating: UkraineWar/UkraineWar/UkraineCombinedTweetsDeduped_FEB28_part2.csv.gzip  \n",
            "  inflating: UkraineWar/UkraineWar/UkraineCombinedTweetsDeduped_MAR01.csv.gzip  \n",
            "  inflating: UkraineWar/UkraineWar/UkraineCombinedTweetsDeduped_MAR02.csv.gzip  \n",
            "  inflating: UkraineWar/UkraineWar/UkraineCombinedTweetsDeduped_MAR03.csv.gzip  \n",
            "  inflating: UkraineWar/UkraineWar/UkraineCombinedTweetsDeduped_MAR04.csv.gzip  \n",
            "  inflating: UkraineWar/UkraineWar/UkraineCombinedTweetsDeduped_MAR05.csv.gzip  \n",
            "  inflating: UkraineWar/UkraineWar/UkraineCombinedTweetsDeduped_MAR06.csv.gzip  \n",
            "  inflating: UkraineWar/UkraineWar/UkraineCombinedTweetsDeduped_MAR07.csv.gzip  \n",
            "  inflating: UkraineWar/UkraineWar/UkraineCombinedTweetsDeduped_MAR08.csv.gzip  \n",
            "  inflating: UkraineWar/UkraineWar/UkraineCombinedTweetsDeduped_MAR09.csv.gzip  \n",
            "  inflating: UkraineWar/UkraineWar/UkraineCombinedTweetsDeduped_MAR10.csv.gzip  \n",
            "  inflating: UkraineWar/UkraineWar/UkraineCombinedTweetsDeduped_MAR11.csv.gzip  \n",
            "  inflating: UkraineWar/UkraineWar/UkraineCombinedTweetsDeduped_MAR12.csv.gzip  \n",
            "  inflating: UkraineWar/UkraineWar/UkraineCombinedTweetsDeduped_MAR13.csv.gzip  \n",
            "  inflating: UkraineWar/UkraineWar/UkraineCombinedTweetsDeduped_MAR14.csv.gzip  \n",
            "  inflating: UkraineWar/UkraineWar/UkraineCombinedTweetsDeduped_MAR15.csv.gzip  \n",
            "  inflating: UkraineWar/UkraineWar/UkraineCombinedTweetsDeduped_MAR16.csv.gzip  \n",
            "  inflating: UkraineWar/UkraineWar/UkraineCombinedTweetsDeduped_MAR17.csv.gzip  \n",
            "  inflating: UkraineWar/UkraineWar/UkraineCombinedTweetsDeduped_MAR18.csv.gzip  \n",
            "  inflating: UkraineWar/UkraineWar/UkraineCombinedTweetsDeduped_MAR19.csv.gzip  \n",
            "  inflating: UkraineWar/UkraineWar/UkraineCombinedTweetsDeduped_MAR20.csv.gzip  \n",
            "  inflating: UkraineWar/UkraineWar/UkraineCombinedTweetsDeduped_MAR21.csv.gzip  \n",
            "  inflating: UkraineWar/UkraineWar/UkraineCombinedTweetsDeduped_MAR22.csv.gzip  \n",
            "  inflating: UkraineWar/UkraineWar/UkraineCombinedTweetsDeduped_MAR23.csv.gzip  \n",
            "  inflating: UkraineWar/UkraineWar/UkraineCombinedTweetsDeduped_MAR24.csv.gzip  \n",
            "  inflating: UkraineWar/UkraineWar/UkraineCombinedTweetsDeduped_MAR25.csv.gzip  \n",
            "  inflating: UkraineWar/UkraineWar/UkraineCombinedTweetsDeduped_MAR26.csv.gzip  \n",
            "  inflating: UkraineWar/UkraineWar/UkraineCombinedTweetsDeduped_MAR27_to_28.csv.gzip  \n",
            "  inflating: UkraineWar/UkraineWar/UkraineCombinedTweetsDeduped_MAR29.csv.gzip  \n",
            "  inflating: UkraineWar/UkraineWar/UkraineCombinedTweetsDeduped_MAR30.csv.gzip  \n",
            "  inflating: UkraineWar/UkraineWar/UkraineCombinedTweetsDeduped_MAR31.csv.gzip  \n"
          ]
        }
      ]
    },
    {
      "cell_type": "markdown",
      "source": [
        "I extract the collection of tweets from the 21 of September and I will work on this."
      ],
      "metadata": {
        "id": "tJXDcwYpvcX3"
      }
    },
    {
      "cell_type": "code",
      "source": [
        "import csv\n",
        "import gzip\n",
        "\n",
        "data_list = []\n",
        "\n",
        "with gzip.open('0921_UkraineCombinedTweetsDeduped.csv.gzip', 'rt') as f:\n",
        "    reader = csv.DictReader(f)\n",
        "    for row in reader:\n",
        "        data_list.append(row)\n",
        "\n",
        "rdd = sc.parallelize(data_list)"
      ],
      "metadata": {
        "id": "p4Ir21JAqo7A"
      },
      "execution_count": 18,
      "outputs": []
    },
    {
      "cell_type": "code",
      "source": [
        "rdd.count()"
      ],
      "metadata": {
        "colab": {
          "base_uri": "https://localhost:8080/"
        },
        "id": "73CX7dxqvifD",
        "outputId": "126b9d59-88f3-40bd-9795-7cd49ca30197"
      },
      "execution_count": 19,
      "outputs": [
        {
          "output_type": "execute_result",
          "data": {
            "text/plain": [
              "104313"
            ]
          },
          "metadata": {},
          "execution_count": 19
        }
      ]
    },
    {
      "cell_type": "code",
      "source": [
        "rdd.first()"
      ],
      "metadata": {
        "colab": {
          "base_uri": "https://localhost:8080/"
        },
        "id": "zU0jV4agws7o",
        "outputId": "1d851288-972d-4826-f02c-24cc7cddc66c"
      },
      "execution_count": 20,
      "outputs": [
        {
          "output_type": "execute_result",
          "data": {
            "text/plain": [
              "OrderedDict([('', '71762'),\n",
              "             ('userid', '1268144739997503493'),\n",
              "             ('username', 'DailyBeijing'),\n",
              "             ('acctdesc', 'Official Twitter Account of The Beijing Daily.'),\n",
              "             ('location', 'Beijing, China'),\n",
              "             ('following', '242'),\n",
              "             ('followers', '2113'),\n",
              "             ('totaltweets', '10142'),\n",
              "             ('usercreatedts', '2020-06-03 11:49:43'),\n",
              "             ('tweetid', '1572375052942573568'),\n",
              "             ('tweetcreatedts', '2022-09-21 00:00:00'),\n",
              "             ('retweetcount', '0'),\n",
              "             ('text',\n",
              "              '.#Britain’s new Prime Minister Liz Truss will pledge to match or exceed £2.3 billion ($2.63 billion) of #military aid to #Ukraine for the year 2023, a government statement said Tuesday. https://t.co/9dI1nmWjzn'),\n",
              "             ('hashtags',\n",
              "              \"[{'text': 'Britain', 'indices': [1, 9]}, {'text': 'military', 'indices': [104, 113]}, {'text': 'Ukraine', 'indices': [121, 129]}]\"),\n",
              "             ('language', 'en'),\n",
              "             ('coordinates', ''),\n",
              "             ('favorite_count', '0'),\n",
              "             ('is_retweet', 'False'),\n",
              "             ('original_tweet_id', '0'),\n",
              "             ('original_tweet_userid', '0'),\n",
              "             ('original_tweet_username', ''),\n",
              "             ('in_reply_to_status_id', '0'),\n",
              "             ('in_reply_to_user_id', '0'),\n",
              "             ('in_reply_to_screen_name', ''),\n",
              "             ('is_quote_status', 'False'),\n",
              "             ('quoted_status_id', '0'),\n",
              "             ('quoted_status_userid', '0'),\n",
              "             ('quoted_status_username', ''),\n",
              "             ('extractedts', '2022-09-21 04:50:22.007130')])"
            ]
          },
          "metadata": {},
          "execution_count": 20
        }
      ]
    },
    {
      "cell_type": "code",
      "source": [
        "rdd.filter(lambda x: x.get(\"language\")=='en').map(lambda x: x.get(\"text\")).take(40)"
      ],
      "metadata": {
        "colab": {
          "base_uri": "https://localhost:8080/"
        },
        "id": "bRoL57B1w1hr",
        "outputId": "a0c3d993-474f-4781-b34a-3245fa3f272e"
      },
      "execution_count": 34,
      "outputs": [
        {
          "output_type": "execute_result",
          "data": {
            "text/plain": [
              "['.#Britain’s new Prime Minister Liz Truss will pledge to match or exceed £2.3 billion ($2.63 billion) of #military aid to #Ukraine for the year 2023, a government statement said Tuesday. https://t.co/9dI1nmWjzn',\n",
              " 'EXTRA INCOME – by Environmental Protection with INTEREST RATE\\n\\nCLICK &gt; https://t.co/DmfNL6wQSN\\n\\n#dollar #extra #income #dream #euro #usa #germany #europe #china #president #moscow #ukraine  #uk #bitcoin #btc #desire #environment #Renewable #solar #hydro #wind #pam #palm #climate https://t.co/oCx1w1CT0B',\n",
              " '.#Britain’s new Prime Minister Liz Truss will pledge to match or exceed £2.3 billion ($2.63 billion) of #military aid to #Ukraine for the year 2023, a government statement said Tuesday. https://t.co/h2tWRdGVQA',\n",
              " \"'War with potential adversaries can never be ruled out...': Navy Chief weighs in on 'challenges' posed by #China #Pakistan \\n\\nhttps://t.co/8YZ4gJFAa9\",\n",
              " 'I hope this is true. 🤞 ❤️ 🇺🇦 #SlavaUkraini \\n\\n🖕🏻🇷🇺 #PuckFutin https://t.co/5oWlVtwbz2',\n",
              " 'Rothschild Investment Bolsters Grayscale BTC and ETH Trust Holdings\\n#binance #gold #news #ukraine\\nhttps://t.co/4rgks0lJNT',\n",
              " 'Now  Ukraine Peace March, Berlin 27. March 2022 #standwithukraine #UkrainePeaceMarch https://t.co/JS6uv2wvH2 ! tune in here : https://t.co/SRZfCglFGv',\n",
              " 'Absolutely Agree! #Txlege #Harrisburg @vp @CartwrightPA #Scranton #NewHope #SlavaUkraini #Odessa https://t.co/mvfotzKDz8',\n",
              " 'ALERT: ALL AIR FLIGHT CANCELED IN MOSCOW - PUTIN WARTIME SPEECH POSTPONED https://t.co/r4nFEDSy3p via @YouTube #Russia #RussiaInvadedUkraine #Ukraine #UkraineRussianWar #NATO #Europe #Putin #Moscow #Referendum #annexation',\n",
              " 'We are hearing about the investigation into Gov. DeSantis flying immigrants to Marthas Vineyard but what about Biden....... Lol #biden #desantis #politics #vote @itsking2u @weswie114',\n",
              " 'The US Department of Justice asked Congress to legalize the transfer of frozen Russian assets to #Ukraine\\nAt least $300 billion worth of Russian assets are blocked in the #US\\n#RussiaInvadedUkraine #Russia #UkraineRussianWar #UkraineRussiaWar #UkraineWar #UkrainianArmy  #NATO #USA https://t.co/5hMBTRWe8Y',\n",
              " \"🛢 Today's Crude Oil Prices:\\n📉 WTI: $84.04 (-0.14)\\n📉 Brent: $90.8 (-0.07)\\n⏱️ 08:00:05 PM EST\\n#war #oilindustry #bakerhughes\",\n",
              " 'Ukraine Peace March, Berlin 27. March 2022 #standwithukraine #UkrainePeaceMarch https://t.co/JS6uv2vXRu is starting now Listen live here: https://t.co/SRZfCgl7QX :',\n",
              " 'Biden on reports DeSantis sending migrants to Delaware: ‘He should come visit’ https://t.co/Hy5jeQwxNM #Biden #NationalNews',\n",
              " 'In the face of mounting Russian losses, even the Russians have their limits, writes @StepanenkoSF #VladimirPutin #Russia #RussiaSetbacks #Ukraine #UkraineWar #SwanLake https://t.co/TN4B7ivhq9 https://t.co/RCJUUSObzh',\n",
              " '@JoeNBC No they will just did something else to whine like the Scientology-like cultists that they so closely resemble. \\n\\n#gasprices \\n#Biden',\n",
              " 'US @SenToomey and @ChrisVanHollen are working to more effectively cut off #Kremlin funds for 🇷🇺’s war of #genocide in #Ukraine: https://t.co/mGl8RyAo5i',\n",
              " \"Stressed?? If you're in Shanghai, head to The Relieve Stress Museum &amp; Starry Magic Planet - you won't be disappointed!!  #stressrelief #travel #smash #travelblog #china #shanghai\\nhttps://t.co/wLN1M75r4b https://t.co/dl5M5NRkdw\",\n",
              " 'Thread\\n\\n #Ukraine  #UkraineRussiaWar #UkraineUnderAttack #UkraineWarNews https://t.co/zDn2ktZpho',\n",
              " '@RachBlevins @FiorellaIsabelM But before his appearance he will sing.\\n\\nhttps://t.co/bjJnrrJuCn\\n\\n#SlavaUkraini',\n",
              " 'I SUPPORT UKRAINE 🇺🇦\\n\\nSTOP THE WAR\\n\\n#SlavaUkraini #StopRussia #StopPutin #PutinWarCriminal #NFT #NFTCommunity #LGBTQ #nftcollector #cryptoartist #NFTs #wezenaar #rickwezenaar https://t.co/xplGKwDXEp',\n",
              " '#Russia still provides kidnapping #Ukrainian kids from Mariupol! https://t.co/sy9KVg0pBR',\n",
              " 'The Long and complex history of the Independent State provides critical context to Russia’s “Special Military Operation”\\n\\n#ukraine #war #russia\\nhttps://t.co/0JjiMOgIzX',\n",
              " 'At the #EasternEconomicForum, senior-level conversations between #Chinese and #Russian officials took place.\\n\\nThese outline the course of #ChinaRussian #trade relations going forward.\\n\\nUpdates on China-Russia investment and challenges in 2022 here ⬇️\\nhttps://t.co/TdNYpfwCKe',\n",
              " '#Vietnam has become a prime #manufacturing location for #UScompanies in place of #China.\\n\\nSee why Vietnam is attracting #USBusinesses 👇\\nhttps://t.co/xDRIqYXqKJ',\n",
              " 'Unity for #Ukraine . https://t.co/But0J1mDRL',\n",
              " 'Brilliant and so seem less 😂 #Biden #Trump https://t.co/dfieGhk97x',\n",
              " 'President Joe Biden told South African President Cyril Ramaphosa that, contrary to claims he made on the 2020 campaign trail, he was never arrested while trying to visit Nelson Mandela in prison. https://t.co/BGrlb7Qfw7\\n#Biden',\n",
              " '✅\"genioux fact\": #China, awash with problems, is juggling to fully support #Putin, #Xi\\'s vassal, without harming its interests of world domination.\\nhttps://t.co/H0pL8OCbwW\\nhttps://t.co/AstpZ4JXlB\\nhttps://t.co/b3Hzy17rFB\\nhttps://t.co/IGhIrYtYSo\\nhttps://t.co/ns7PH2uENZ',\n",
              " 'The Ukraine Effect – Russian Influence In Central Asia &amp; the Shanghai Cooperation Organization (The Russian Invasion of Ukraine #193)\\n#UkraineWillWin #StandWithUkraine #PutinsWar #Ukraine #VladimirPutin  #SCOSummit2022\\n#UkraineRussianWar #Ukraine\\nhttps://t.co/N39knRoSSf',\n",
              " \"#odessa #odesa #ukraine #одесса\\nNow: 11.3°C\\nToday's Min: 11.3°C at 02:53:34\\nToday's Max: 12.7°C at 00:00:00\\nMonth's Min: 11.3°C at 2022-09-21 02:53:34\\nMonth's Max: 27.5°C at 2022-09-15 13:54:59\",\n",
              " 'From the ashes of #nuclear #war, #mechs rise as the champions of the corporations. For fans of The Messenger and #BattleTech\\nhttps://t.co/hE5NEjC8di\\n#IARTG #SciFi #Mecha #WolfPackAuthors #KindleUnlimited https://t.co/VamLzUQVJM',\n",
              " '#Russia Government has reportedly made changes to its Constitution and other National Laws in the last 24 hours that make it easier for a General Mobilization and Transfer to a War Economy to be ordered within the Country, they are preparing to go all in. #thefallofputin #Ukraine https://t.co/bRVQwXvVpn',\n",
              " '\"Any outcome of the #Ukrainian crisis will have the most negative impact on #Europe,\" \\n\\nThe fake #Rand report on destruction of #Germany might not be actually all that fake. \\n\\nhttps://t.co/71kxb4hiZe',\n",
              " \"Mao Zedong, Chairman of the Communist Party of China  first announced the establishment of the People's Republic of China on Sept. 21, 1949. The formal proclamation would be on October 1. #OTD #China #Mao https://t.co/ODgGtsgrED\",\n",
              " 'If anyone fears or expects Putin to announce a general #Russian mobilization at 9am in Moscow, this thread should give you context to reflect on.\\n#Ukraine’s army is now larger than Russia’s &amp; better equipped on average.\\nRussia has limited munitions to equip a new force.\\n#auspol https://t.co/zrPNHW5fAC',\n",
              " '#Thailand has become an #InvestmentHub thanks to its strategic location in the center of the #ASEAN #FreeTrade area, with access to #China and #India.\\n\\nSeek out #investment #opportunities in Thailand in 2023 👇\\nhttps://t.co/hTQGQCvyuh',\n",
              " '@Gerashchenko_en Breaking 🔥Putin will soon go the hell as he is having an end-stage cancer. \\n\\nIntelligence from inner circle close to Putin that Mr. #Putin has an incurable disease - squamous cell carcinoma of the anus, and that he is dying and is unlikely to live more than another 12 months! https://t.co/BGUZ6VstZx',\n",
              " \"Zelensky Bodyguard Has Nazi Patch On Uniform! https://t.co/oo5EBHhkAj via @YouTube \\n#Zelensky's BodyGuard HAS #NaziPatch ON UNIFORM\\n#UKRAINE IS NOT A #NATO COUNTRY!!!! \\n#UkraineCorruption STOP SENDING THEM MONEY!!!\\n#JoeBidenHasToGo #HunterBiden #BURISMA\",\n",
              " '#Israel has refused entreaties to provide weapons to #Ukraine, including effective anti-missile systems. https://t.co/KPQ0pr5aO7']"
            ]
          },
          "metadata": {},
          "execution_count": 34
        }
      ]
    }
  ]
}