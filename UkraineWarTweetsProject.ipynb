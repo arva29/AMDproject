{
  "nbformat": 4,
  "nbformat_minor": 0,
  "metadata": {
    "colab": {
      "provenance": [],
      "collapsed_sections": [],
      "mount_file_id": "1NJglijpkoWM_5h5qeAff6FhtLu1w3nud",
      "authorship_tag": "ABX9TyO3jK496HJpIZS32yw9p81h",
      "include_colab_link": true
    },
    "kernelspec": {
      "name": "python3",
      "display_name": "Python 3"
    },
    "language_info": {
      "name": "python"
    }
  },
  "cells": [
    {
      "cell_type": "markdown",
      "metadata": {
        "id": "view-in-github",
        "colab_type": "text"
      },
      "source": [
        "<a href=\"https://colab.research.google.com/github/arva29/AMDproject/blob/main/UkraineWarTweetsProject.ipynb\" target=\"_parent\"><img src=\"https://colab.research.google.com/assets/colab-badge.svg\" alt=\"Open In Colab\"/></a>"
      ]
    },
    {
      "cell_type": "code",
      "source": [
        "# this is meant to be run on google colab\n",
        "\n",
        "!apt-get install openjdk-8-jdk-headless -qq > /dev/null\n",
        "#!wget -q http://www-eu.apache.org/dist/spark/spark-2.4.5/spark-2.4.5-bin-hadoop2.7.tgz\n",
        "!wget -q https://archive.apache.org/dist/spark/spark-2.4.5/spark-2.4.5-bin-hadoop2.7.tgz\n",
        "!tar xf spark-2.4.5-bin-hadoop2.7.tgz\n",
        "!pip install -q findspark"
      ],
      "metadata": {
        "id": "3U8gDVuMsaRK"
      },
      "execution_count": 1,
      "outputs": []
    },
    {
      "cell_type": "code",
      "source": [
        "import os\n",
        "os.environ[\"JAVA_HOME\"] = \"/usr/lib/jvm/java-8-openjdk-amd64\"\n",
        "os.environ[\"SPARK_HOME\"] = \"/content/spark-2.4.5-bin-hadoop2.7\"\n",
        "\n",
        "import findspark\n",
        "findspark.init(\"spark-2.4.5-bin-hadoop2.7\") #SPARK_HOME\n",
        "from pyspark.sql import SparkSession\n",
        "spark = SparkSession.builder.master(\"local[*]\").getOrCreate()\n",
        "\n",
        "sc = spark.sparkContext"
      ],
      "metadata": {
        "id": "9NE-kyYnseaE"
      },
      "execution_count": 2,
      "outputs": []
    },
    {
      "cell_type": "code",
      "source": [
        "from google.colab import files\n",
        "\n",
        "uploaded = files.upload()\n",
        "\n",
        "for fn in uploaded.keys():\n",
        "  print('User uploaded file \"{name}\" with length {length} bytes'.format(\n",
        "      name=fn, length=len(uploaded[fn])))\n",
        "  \n",
        "# Then move kaggle.json into the folder where the API expects to find it.\n",
        "!mkdir -p ~/.kaggle/ && mv kaggle.json ~/.kaggle/ && chmod 600 ~/.kaggle/kaggle.json"
      ],
      "metadata": {
        "colab": {
          "base_uri": "https://localhost:8080/",
          "height": 95
        },
        "id": "sQiCus2qkEwL",
        "outputId": "4904a7a9-4625-4fc5-ade2-8210186fbf79"
      },
      "execution_count": 3,
      "outputs": [
        {
          "output_type": "display_data",
          "data": {
            "text/plain": [
              "<IPython.core.display.HTML object>"
            ],
            "text/html": [
              "\n",
              "     <input type=\"file\" id=\"files-73a9910a-7f43-43d3-a92c-d95d1285cdc5\" name=\"files[]\" multiple disabled\n",
              "        style=\"border:none\" />\n",
              "     <output id=\"result-73a9910a-7f43-43d3-a92c-d95d1285cdc5\">\n",
              "      Upload widget is only available when the cell has been executed in the\n",
              "      current browser session. Please rerun this cell to enable.\n",
              "      </output>\n",
              "      <script>// Copyright 2017 Google LLC\n",
              "//\n",
              "// Licensed under the Apache License, Version 2.0 (the \"License\");\n",
              "// you may not use this file except in compliance with the License.\n",
              "// You may obtain a copy of the License at\n",
              "//\n",
              "//      http://www.apache.org/licenses/LICENSE-2.0\n",
              "//\n",
              "// Unless required by applicable law or agreed to in writing, software\n",
              "// distributed under the License is distributed on an \"AS IS\" BASIS,\n",
              "// WITHOUT WARRANTIES OR CONDITIONS OF ANY KIND, either express or implied.\n",
              "// See the License for the specific language governing permissions and\n",
              "// limitations under the License.\n",
              "\n",
              "/**\n",
              " * @fileoverview Helpers for google.colab Python module.\n",
              " */\n",
              "(function(scope) {\n",
              "function span(text, styleAttributes = {}) {\n",
              "  const element = document.createElement('span');\n",
              "  element.textContent = text;\n",
              "  for (const key of Object.keys(styleAttributes)) {\n",
              "    element.style[key] = styleAttributes[key];\n",
              "  }\n",
              "  return element;\n",
              "}\n",
              "\n",
              "// Max number of bytes which will be uploaded at a time.\n",
              "const MAX_PAYLOAD_SIZE = 100 * 1024;\n",
              "\n",
              "function _uploadFiles(inputId, outputId) {\n",
              "  const steps = uploadFilesStep(inputId, outputId);\n",
              "  const outputElement = document.getElementById(outputId);\n",
              "  // Cache steps on the outputElement to make it available for the next call\n",
              "  // to uploadFilesContinue from Python.\n",
              "  outputElement.steps = steps;\n",
              "\n",
              "  return _uploadFilesContinue(outputId);\n",
              "}\n",
              "\n",
              "// This is roughly an async generator (not supported in the browser yet),\n",
              "// where there are multiple asynchronous steps and the Python side is going\n",
              "// to poll for completion of each step.\n",
              "// This uses a Promise to block the python side on completion of each step,\n",
              "// then passes the result of the previous step as the input to the next step.\n",
              "function _uploadFilesContinue(outputId) {\n",
              "  const outputElement = document.getElementById(outputId);\n",
              "  const steps = outputElement.steps;\n",
              "\n",
              "  const next = steps.next(outputElement.lastPromiseValue);\n",
              "  return Promise.resolve(next.value.promise).then((value) => {\n",
              "    // Cache the last promise value to make it available to the next\n",
              "    // step of the generator.\n",
              "    outputElement.lastPromiseValue = value;\n",
              "    return next.value.response;\n",
              "  });\n",
              "}\n",
              "\n",
              "/**\n",
              " * Generator function which is called between each async step of the upload\n",
              " * process.\n",
              " * @param {string} inputId Element ID of the input file picker element.\n",
              " * @param {string} outputId Element ID of the output display.\n",
              " * @return {!Iterable<!Object>} Iterable of next steps.\n",
              " */\n",
              "function* uploadFilesStep(inputId, outputId) {\n",
              "  const inputElement = document.getElementById(inputId);\n",
              "  inputElement.disabled = false;\n",
              "\n",
              "  const outputElement = document.getElementById(outputId);\n",
              "  outputElement.innerHTML = '';\n",
              "\n",
              "  const pickedPromise = new Promise((resolve) => {\n",
              "    inputElement.addEventListener('change', (e) => {\n",
              "      resolve(e.target.files);\n",
              "    });\n",
              "  });\n",
              "\n",
              "  const cancel = document.createElement('button');\n",
              "  inputElement.parentElement.appendChild(cancel);\n",
              "  cancel.textContent = 'Cancel upload';\n",
              "  const cancelPromise = new Promise((resolve) => {\n",
              "    cancel.onclick = () => {\n",
              "      resolve(null);\n",
              "    };\n",
              "  });\n",
              "\n",
              "  // Wait for the user to pick the files.\n",
              "  const files = yield {\n",
              "    promise: Promise.race([pickedPromise, cancelPromise]),\n",
              "    response: {\n",
              "      action: 'starting',\n",
              "    }\n",
              "  };\n",
              "\n",
              "  cancel.remove();\n",
              "\n",
              "  // Disable the input element since further picks are not allowed.\n",
              "  inputElement.disabled = true;\n",
              "\n",
              "  if (!files) {\n",
              "    return {\n",
              "      response: {\n",
              "        action: 'complete',\n",
              "      }\n",
              "    };\n",
              "  }\n",
              "\n",
              "  for (const file of files) {\n",
              "    const li = document.createElement('li');\n",
              "    li.append(span(file.name, {fontWeight: 'bold'}));\n",
              "    li.append(span(\n",
              "        `(${file.type || 'n/a'}) - ${file.size} bytes, ` +\n",
              "        `last modified: ${\n",
              "            file.lastModifiedDate ? file.lastModifiedDate.toLocaleDateString() :\n",
              "                                    'n/a'} - `));\n",
              "    const percent = span('0% done');\n",
              "    li.appendChild(percent);\n",
              "\n",
              "    outputElement.appendChild(li);\n",
              "\n",
              "    const fileDataPromise = new Promise((resolve) => {\n",
              "      const reader = new FileReader();\n",
              "      reader.onload = (e) => {\n",
              "        resolve(e.target.result);\n",
              "      };\n",
              "      reader.readAsArrayBuffer(file);\n",
              "    });\n",
              "    // Wait for the data to be ready.\n",
              "    let fileData = yield {\n",
              "      promise: fileDataPromise,\n",
              "      response: {\n",
              "        action: 'continue',\n",
              "      }\n",
              "    };\n",
              "\n",
              "    // Use a chunked sending to avoid message size limits. See b/62115660.\n",
              "    let position = 0;\n",
              "    do {\n",
              "      const length = Math.min(fileData.byteLength - position, MAX_PAYLOAD_SIZE);\n",
              "      const chunk = new Uint8Array(fileData, position, length);\n",
              "      position += length;\n",
              "\n",
              "      const base64 = btoa(String.fromCharCode.apply(null, chunk));\n",
              "      yield {\n",
              "        response: {\n",
              "          action: 'append',\n",
              "          file: file.name,\n",
              "          data: base64,\n",
              "        },\n",
              "      };\n",
              "\n",
              "      let percentDone = fileData.byteLength === 0 ?\n",
              "          100 :\n",
              "          Math.round((position / fileData.byteLength) * 100);\n",
              "      percent.textContent = `${percentDone}% done`;\n",
              "\n",
              "    } while (position < fileData.byteLength);\n",
              "  }\n",
              "\n",
              "  // All done.\n",
              "  yield {\n",
              "    response: {\n",
              "      action: 'complete',\n",
              "    }\n",
              "  };\n",
              "}\n",
              "\n",
              "scope.google = scope.google || {};\n",
              "scope.google.colab = scope.google.colab || {};\n",
              "scope.google.colab._files = {\n",
              "  _uploadFiles,\n",
              "  _uploadFilesContinue,\n",
              "};\n",
              "})(self);\n",
              "</script> "
            ]
          },
          "metadata": {}
        },
        {
          "output_type": "stream",
          "name": "stdout",
          "text": [
            "Saving kaggle.json to kaggle.json\n",
            "User uploaded file \"kaggle.json\" with length 70 bytes\n"
          ]
        }
      ]
    },
    {
      "cell_type": "code",
      "source": [
        "!kaggle datasets download -d bwandowando/ukraine-russian-crisis-twitter-dataset-1-2-m-rows"
      ],
      "metadata": {
        "colab": {
          "base_uri": "https://localhost:8080/"
        },
        "id": "6kAPywJxlvnv",
        "outputId": "692a756d-e378-468a-ea43-770acd58141e"
      },
      "execution_count": 4,
      "outputs": [
        {
          "output_type": "stream",
          "name": "stdout",
          "text": [
            "Downloading ukraine-russian-crisis-twitter-dataset-1-2-m-rows.zip to /content\n",
            "100% 12.4G/12.4G [04:07<00:00, 83.4MB/s]\n",
            "100% 12.4G/12.4G [04:07<00:00, 53.6MB/s]\n"
          ]
        }
      ]
    },
    {
      "cell_type": "code",
      "source": [
        "!unzip ukraine-russian-crisis-twitter-dataset-1-2-m-rows.zip"
      ],
      "metadata": {
        "colab": {
          "base_uri": "https://localhost:8080/"
        },
        "id": "5sXasu1Km0rG",
        "outputId": "c27ee139-8e71-4c2f-a837-eb1640a751b8"
      },
      "execution_count": 5,
      "outputs": [
        {
          "output_type": "stream",
          "name": "stdout",
          "text": [
            "Archive:  ukraine-russian-crisis-twitter-dataset-1-2-m-rows.zip\n",
            "  inflating: 0819_UkraineCombinedTweetsDeduped.csv.gzip  \n",
            "  inflating: 0820_UkraineCombinedTweetsDeduped.csv.gzip  \n",
            "  inflating: 0821_UkraineCombinedTweetsDeduped.csv.gzip  \n",
            "  inflating: 0822_UkraineCombinedTweetsDeduped.csv.gzip  \n",
            "  inflating: 0823_UkraineCombinedTweetsDeduped.csv.gzip  \n",
            "  inflating: 0824_UkraineCombinedTweetsDeduped.csv.gzip  \n",
            "  inflating: 0825_UkraineCombinedTweetsDeduped.csv.gzip  \n",
            "  inflating: 0826_UkraineCombinedTweetsDeduped.csv.gzip  \n",
            "  inflating: 0827_UkraineCombinedTweetsDeduped.csv.gzip  \n",
            "  inflating: 0828_UkraineCombinedTweetsDeduped.csv.gzip  \n",
            "  inflating: 0829_UkraineCombinedTweetsDeduped.csv.gzip  \n",
            "  inflating: 0830_UkraineCombinedTweetsDeduped.csv.gzip  \n",
            "  inflating: 0831_UkraineCombinedTweetsDeduped.csv.gzip  \n",
            "  inflating: 0901_UkraineCombinedTweetsDeduped.csv.gzip  \n",
            "  inflating: 0902_UkraineCombinedTweetsDeduped.csv.gzip  \n",
            "  inflating: 0903_UkraineCombinedTweetsDeduped.csv.gzip  \n",
            "  inflating: 0904_UkraineCombinedTweetsDeduped.csv.gzip  \n",
            "  inflating: 0905_UkraineCombinedTweetsDeduped.csv.gzip  \n",
            "  inflating: 0906_UkraineCombinedTweetsDeduped.csv.gzip  \n",
            "  inflating: 0907_UkraineCombinedTweetsDeduped.csv.gzip  \n",
            "  inflating: 0908_UkraineCombinedTweetsDeduped.csv.gzip  \n",
            "  inflating: 0909_UkraineCombinedTweetsDeduped.csv.gzip  \n",
            "  inflating: 0910_UkraineCombinedTweetsDeduped.csv.gzip  \n",
            "  inflating: 0911_UkraineCombinedTweetsDeduped.csv.gzip  \n",
            "  inflating: 0912_UkraineCombinedTweetsDeduped.csv.gzip  \n",
            "  inflating: 0913_UkraineCombinedTweetsDeduped.csv.gzip  \n",
            "  inflating: 0914_UkraineCombinedTweetsDeduped.csv.gzip  \n",
            "  inflating: 0915_UkraineCombinedTweetsDeduped.csv.gzip  \n",
            "  inflating: 0916_UkraineCombinedTweetsDeduped.csv.gzip  \n",
            "  inflating: 0917_UkraineCombinedTweetsDeduped.csv.gzip  \n",
            "  inflating: 0918_UkraineCombinedTweetsDeduped.csv.gzip  \n",
            "  inflating: 0919_UkraineCombinedTweetsDeduped.csv.gzip  \n",
            "  inflating: 0921_UkraineCombinedTweetsDeduped.csv.gzip  \n",
            "  inflating: 0922_UkraineCombinedTweetsDeduped.csv.gzip  \n",
            "  inflating: 0923_UkraineCombinedTweetsDeduped.csv.gzip  \n",
            "  inflating: 0924_UkraineCombinedTweetsDeduped.csv.gzip  \n",
            "  inflating: 0925_UkraineCombinedTweetsDeduped.csv.gzip  \n",
            "  inflating: 0926_UkraineCombinedTweetsDeduped.csv.gzip  \n",
            "  inflating: 0927_UkraineCombinedTweetsDeduped.csv.gzip  \n",
            "  inflating: 0928_UkraineCombinedTweetsDeduped.csv.gzip  \n",
            "  inflating: 0929_UkraineCombinedTweetsDeduped.csv.gzip  \n",
            "  inflating: 0930_UkraineCombinedTweetsDeduped.csv.gzip  \n",
            "  inflating: 1001_UkraineCombinedTweetsDeduped.csv.gzip  \n",
            "  inflating: 1002_UkraineCombinedTweetsDeduped.csv.gzip  \n",
            "  inflating: 1003_UkraineCombinedTweetsDeduped.csv.gzip  \n",
            "  inflating: 1004_UkraineCombinedTweetsDeduped.csv.gzip  \n",
            "  inflating: 1005_UkraineCombinedTweetsDeduped.csv.gzip  \n",
            "  inflating: 1006_UkraineCombinedTweetsDeduped.csv.gzip  \n",
            "  inflating: 1007_UkraineCombinedTweetsDeduped.csv.gzip  \n",
            "  inflating: 1008_UkraineCombinedTweetsDeduped.csv.gzip  \n",
            "  inflating: 1009_UkraineCombinedTweetsDeduped.csv.gzip  \n",
            "  inflating: 1010_UkraineCombinedTweetsDeduped.csv.gzip  \n",
            "  inflating: UkraineWar/UkraineWar/0401_UkraineCombinedTweetsDeduped.csv.gzip  \n",
            "  inflating: UkraineWar/UkraineWar/0402_UkraineCombinedTweetsDeduped.csv.gzip  \n",
            "  inflating: UkraineWar/UkraineWar/0403_UkraineCombinedTweetsDeduped.csv.gzip  \n",
            "  inflating: UkraineWar/UkraineWar/0404_UkraineCombinedTweetsDeduped.csv.gzip  \n",
            "  inflating: UkraineWar/UkraineWar/0405_UkraineCombinedTweetsDeduped.csv.gzip  \n",
            "  inflating: UkraineWar/UkraineWar/0406_UkraineCombinedTweetsDeduped.csv.gzip  \n",
            "  inflating: UkraineWar/UkraineWar/0407_UkraineCombinedTweetsDeduped.csv.gzip  \n",
            "  inflating: UkraineWar/UkraineWar/0408_UkraineCombinedTweetsDeduped.csv.gzip  \n",
            "  inflating: UkraineWar/UkraineWar/0409_UkraineCombinedTweetsDeduped.csv.gzip  \n",
            "  inflating: UkraineWar/UkraineWar/0410_UkraineCombinedTweetsDeduped.csv.gzip  \n",
            "  inflating: UkraineWar/UkraineWar/0411_UkraineCombinedTweetsDeduped.csv.gzip  \n",
            "  inflating: UkraineWar/UkraineWar/0412_UkraineCombinedTweetsDeduped.csv.gzip  \n",
            "  inflating: UkraineWar/UkraineWar/0413_UkraineCombinedTweetsDeduped.csv.gzip  \n",
            "  inflating: UkraineWar/UkraineWar/0414_UkraineCombinedTweetsDeduped.csv.gzip  \n",
            "  inflating: UkraineWar/UkraineWar/0415_UkraineCombinedTweetsDeduped.csv.gzip  \n",
            "  inflating: UkraineWar/UkraineWar/0416_UkraineCombinedTweetsDeduped.csv.gzip  \n",
            "  inflating: UkraineWar/UkraineWar/0417_UkraineCombinedTweetsDeduped.csv.gzip  \n",
            "  inflating: UkraineWar/UkraineWar/0418_UkraineCombinedTweetsDeduped.csv.gzip  \n",
            "  inflating: UkraineWar/UkraineWar/0419_UkraineCombinedTweetsDeduped.csv.gzip  \n",
            "  inflating: UkraineWar/UkraineWar/0420_UkraineCombinedTweetsDeduped.csv.gzip  \n",
            "  inflating: UkraineWar/UkraineWar/0421_UkraineCombinedTweetsDeduped.csv.gzip  \n",
            "  inflating: UkraineWar/UkraineWar/0422_UkraineCombinedTweetsDeduped.csv.gzip  \n",
            "  inflating: UkraineWar/UkraineWar/0423_UkraineCombinedTweetsDeduped.csv.gzip  \n",
            "  inflating: UkraineWar/UkraineWar/0424_UkraineCombinedTweetsDeduped.csv.gzip  \n",
            "  inflating: UkraineWar/UkraineWar/0425_UkraineCombinedTweetsDeduped.csv.gzip  \n",
            "  inflating: UkraineWar/UkraineWar/0426_UkraineCombinedTweetsDeduped.csv.gzip  \n",
            "  inflating: UkraineWar/UkraineWar/0427_UkraineCombinedTweetsDeduped.csv.gzip  \n",
            "  inflating: UkraineWar/UkraineWar/0428_UkraineCombinedTweetsDeduped.csv.gzip  \n",
            "  inflating: UkraineWar/UkraineWar/0429_UkraineCombinedTweetsDeduped.csv.gzip  \n",
            "  inflating: UkraineWar/UkraineWar/0430_UkraineCombinedTweetsDeduped.csv.gzip  \n",
            "  inflating: UkraineWar/UkraineWar/0501_UkraineCombinedTweetsDeduped.csv.gzip  \n",
            "  inflating: UkraineWar/UkraineWar/0502_UkraineCombinedTweetsDeduped.csv.gzip  \n",
            "  inflating: UkraineWar/UkraineWar/0503_UkraineCombinedTweetsDeduped.csv.gzip  \n",
            "  inflating: UkraineWar/UkraineWar/0504_UkraineCombinedTweetsDeduped.csv.gzip  \n",
            "  inflating: UkraineWar/UkraineWar/0505_to_0507_UkraineCombinedTweetsDeduped.csv.gzip  \n",
            "  inflating: UkraineWar/UkraineWar/0508_UkraineCombinedTweetsDeduped.csv.gzip  \n",
            "  inflating: UkraineWar/UkraineWar/0509_UkraineCombinedTweetsDeduped.csv.gzip  \n",
            "  inflating: UkraineWar/UkraineWar/0510_UkraineCombinedTweetsDeduped.csv.gzip  \n",
            "  inflating: UkraineWar/UkraineWar/0511_UkraineCombinedTweetsDeduped.csv.gzip  \n",
            "  inflating: UkraineWar/UkraineWar/0512_UkraineCombinedTweetsDeduped.csv.gzip  \n",
            "  inflating: UkraineWar/UkraineWar/0513_UkraineCombinedTweetsDeduped.csv.gzip  \n",
            "  inflating: UkraineWar/UkraineWar/0514_UkraineCombinedTweetsDeduped.csv.gzip  \n",
            "  inflating: UkraineWar/UkraineWar/0515_UkraineCombinedTweetsDeduped.csv.gzip  \n",
            "  inflating: UkraineWar/UkraineWar/0516_UkraineCombinedTweetsDeduped.csv.gzip  \n",
            "  inflating: UkraineWar/UkraineWar/0517_UkraineCombinedTweetsDeduped.csv.gzip  \n",
            "  inflating: UkraineWar/UkraineWar/0518_UkraineCombinedTweetsDeduped.csv.gzip  \n",
            "  inflating: UkraineWar/UkraineWar/0519_UkraineCombinedTweetsDeduped.csv.gzip  \n",
            "  inflating: UkraineWar/UkraineWar/0520_UkraineCombinedTweetsDeduped.csv.gzip  \n",
            "  inflating: UkraineWar/UkraineWar/0521_UkraineCombinedTweetsDeduped.csv.gzip  \n",
            "  inflating: UkraineWar/UkraineWar/0522_UkraineCombinedTweetsDeduped.csv.gzip  \n",
            "  inflating: UkraineWar/UkraineWar/0523_UkraineCombinedTweetsDeduped.csv.gzip  \n",
            "  inflating: UkraineWar/UkraineWar/0524_UkraineCombinedTweetsDeduped.csv.gzip  \n",
            "  inflating: UkraineWar/UkraineWar/0525_UkraineCombinedTweetsDeduped.csv.gzip  \n",
            "  inflating: UkraineWar/UkraineWar/0526_UkraineCombinedTweetsDeduped.csv.gzip  \n",
            "  inflating: UkraineWar/UkraineWar/0527_UkraineCombinedTweetsDeduped.csv.gzip  \n",
            "  inflating: UkraineWar/UkraineWar/0528_UkraineCombinedTweetsDeduped.csv.gzip  \n",
            "  inflating: UkraineWar/UkraineWar/0529_UkraineCombinedTweetsDeduped.csv.gzip  \n",
            "  inflating: UkraineWar/UkraineWar/0530_UkraineCombinedTweetsDeduped.csv.gzip  \n",
            "  inflating: UkraineWar/UkraineWar/0531_UkraineCombinedTweetsDeduped.csv.gzip  \n",
            "  inflating: UkraineWar/UkraineWar/0601_UkraineCombinedTweetsDeduped.csv.gzip  \n",
            "  inflating: UkraineWar/UkraineWar/0602_UkraineCombinedTweetsDeduped.csv.gzip  \n",
            "  inflating: UkraineWar/UkraineWar/0603_UkraineCombinedTweetsDeduped.csv.gzip  \n",
            "  inflating: UkraineWar/UkraineWar/0604_UkraineCombinedTweetsDeduped.csv.gzip  \n",
            "  inflating: UkraineWar/UkraineWar/0605_UkraineCombinedTweetsDeduped.csv.gzip  \n",
            "  inflating: UkraineWar/UkraineWar/0606_to_08_UkraineCombinedTweetsDeduped.csv.gzip  \n",
            "  inflating: UkraineWar/UkraineWar/0609_UkraineCombinedTweetsDeduped.csv.gzip  \n",
            "  inflating: UkraineWar/UkraineWar/0610_UkraineCombinedTweetsDeduped.csv.gzip  \n",
            "  inflating: UkraineWar/UkraineWar/0611_UkraineCombinedTweetsDeduped.csv.gzip  \n",
            "  inflating: UkraineWar/UkraineWar/0612_UkraineCombinedTweetsDeduped.csv.gzip  \n",
            "  inflating: UkraineWar/UkraineWar/0613_UkraineCombinedTweetsDeduped.csv.gzip  \n",
            "  inflating: UkraineWar/UkraineWar/0614_UkraineCombinedTweetsDeduped.csv.gzip  \n",
            "  inflating: UkraineWar/UkraineWar/0615_UkraineCombinedTweetsDeduped.csv.gzip  \n",
            "  inflating: UkraineWar/UkraineWar/0616_UkraineCombinedTweetsDeduped.csv.gzip  \n",
            "  inflating: UkraineWar/UkraineWar/0617_UkraineCombinedTweetsDeduped.csv.gzip  \n",
            "  inflating: UkraineWar/UkraineWar/0618_UkraineCombinedTweetsDeduped.csv.gzip  \n",
            "  inflating: UkraineWar/UkraineWar/0619_UkraineCombinedTweetsDeduped.csv.gzip  \n",
            "  inflating: UkraineWar/UkraineWar/0620_UkraineCombinedTweetsDeduped.csv.gzip  \n",
            "  inflating: UkraineWar/UkraineWar/0621_UkraineCombinedTweetsDeduped.csv.gzip  \n",
            "  inflating: UkraineWar/UkraineWar/0622_UkraineCombinedTweetsDeduped.csv.gzip  \n",
            "  inflating: UkraineWar/UkraineWar/0623_UkraineCombinedTweetsDeduped.csv.gzip  \n",
            "  inflating: UkraineWar/UkraineWar/0624_UkraineCombinedTweetsDeduped.csv.gzip  \n",
            "  inflating: UkraineWar/UkraineWar/0625_UkraineCombinedTweetsDeduped.csv.gzip  \n",
            "  inflating: UkraineWar/UkraineWar/0626_UkraineCombinedTweetsDeduped.csv.gzip  \n",
            "  inflating: UkraineWar/UkraineWar/0627_UkraineCombinedTweetsDeduped.csv.gzip  \n",
            "  inflating: UkraineWar/UkraineWar/0628_UkraineCombinedTweetsDeduped.csv.gzip  \n",
            "  inflating: UkraineWar/UkraineWar/0629_UkraineCombinedTweetsDeduped.csv.gzip  \n",
            "  inflating: UkraineWar/UkraineWar/0630_UkraineCombinedTweetsDeduped.csv.gzip  \n",
            "  inflating: UkraineWar/UkraineWar/0701_UkraineCombinedTweetsDeduped.csv.gzip  \n",
            "  inflating: UkraineWar/UkraineWar/0702_UkraineCombinedTweetsDeduped.csv.gzip  \n",
            "  inflating: UkraineWar/UkraineWar/0703_UkraineCombinedTweetsDeduped.csv.gzip  \n",
            "  inflating: UkraineWar/UkraineWar/0704_UkraineCombinedTweetsDeduped.csv.gzip  \n",
            "  inflating: UkraineWar/UkraineWar/0705_UkraineCombinedTweetsDeduped.csv.gzip  \n",
            "  inflating: UkraineWar/UkraineWar/0706_UkraineCombinedTweetsDeduped.csv.gzip  \n",
            "  inflating: UkraineWar/UkraineWar/0707_UkraineCombinedTweetsDeduped.csv.gzip  \n",
            "  inflating: UkraineWar/UkraineWar/0708_UkraineCombinedTweetsDeduped.csv.gzip  \n",
            "  inflating: UkraineWar/UkraineWar/0709_UkraineCombinedTweetsDeduped.csv.gzip  \n",
            "  inflating: UkraineWar/UkraineWar/0710_UkraineCombinedTweetsDeduped.csv.gzip  \n",
            "  inflating: UkraineWar/UkraineWar/0711_UkraineCombinedTweetsDeduped.csv.gzip  \n",
            "  inflating: UkraineWar/UkraineWar/0712_UkraineCombinedTweetsDeduped.csv.gzip  \n",
            "  inflating: UkraineWar/UkraineWar/0713_UkraineCombinedTweetsDeduped.csv.gzip  \n",
            "  inflating: UkraineWar/UkraineWar/0714_UkraineCombinedTweetsDeduped.csv.gzip  \n",
            "  inflating: UkraineWar/UkraineWar/0715_UkraineCombinedTweetsDeduped.csv.gzip  \n",
            "  inflating: UkraineWar/UkraineWar/0716_UkraineCombinedTweetsDeduped.csv.gzip  \n",
            "  inflating: UkraineWar/UkraineWar/0717_UkraineCombinedTweetsDeduped.csv.gzip  \n",
            "  inflating: UkraineWar/UkraineWar/0718_UkraineCombinedTweetsDeduped.csv.gzip  \n",
            "  inflating: UkraineWar/UkraineWar/0719_UkraineCombinedTweetsDeduped.csv.gzip  \n",
            "  inflating: UkraineWar/UkraineWar/0720_UkraineCombinedTweetsDeduped.csv.gzip  \n",
            "  inflating: UkraineWar/UkraineWar/0721_UkraineCombinedTweetsDeduped.csv.gzip  \n",
            "  inflating: UkraineWar/UkraineWar/0722_UkraineCombinedTweetsDeduped.csv.gzip  \n",
            "  inflating: UkraineWar/UkraineWar/0723_UkraineCombinedTweetsDeduped.csv.gzip  \n",
            "  inflating: UkraineWar/UkraineWar/0724_UkraineCombinedTweetsDeduped.csv.gzip  \n",
            "  inflating: UkraineWar/UkraineWar/0725_UkraineCombinedTweetsDeduped.csv.gzip  \n",
            "  inflating: UkraineWar/UkraineWar/0726_UkraineCombinedTweetsDeduped.csv.gzip  \n",
            "  inflating: UkraineWar/UkraineWar/0727_UkraineCombinedTweetsDeduped.csv.gzip  \n",
            "  inflating: UkraineWar/UkraineWar/0728_UkraineCombinedTweetsDeduped.csv.gzip  \n",
            "  inflating: UkraineWar/UkraineWar/0729_UkraineCombinedTweetsDeduped.csv.gzip  \n",
            "  inflating: UkraineWar/UkraineWar/0730_UkraineCombinedTweetsDeduped.csv.gzip  \n",
            "  inflating: UkraineWar/UkraineWar/0731_UkraineCombinedTweetsDeduped.csv.gzip  \n",
            "  inflating: UkraineWar/UkraineWar/0801_UkraineCombinedTweetsDeduped.csv.gzip  \n",
            "  inflating: UkraineWar/UkraineWar/0802_UkraineCombinedTweetsDeduped.csv.gzip  \n",
            "  inflating: UkraineWar/UkraineWar/0803_UkraineCombinedTweetsDeduped.csv.gzip  \n",
            "  inflating: UkraineWar/UkraineWar/0804_UkraineCombinedTweetsDeduped.csv.gzip  \n",
            "  inflating: UkraineWar/UkraineWar/0805_UkraineCombinedTweetsDeduped.csv.gzip  \n",
            "  inflating: UkraineWar/UkraineWar/0806_UkraineCombinedTweetsDeduped.csv.gzip  \n",
            "  inflating: UkraineWar/UkraineWar/0807_UkraineCombinedTweetsDeduped.csv.gzip  \n",
            "  inflating: UkraineWar/UkraineWar/0808_UkraineCombinedTweetsDeduped.csv.gzip  \n",
            "  inflating: UkraineWar/UkraineWar/0809_UkraineCombinedTweetsDeduped.csv.gzip  \n",
            "  inflating: UkraineWar/UkraineWar/0810_UkraineCombinedTweetsDeduped.csv.gzip  \n",
            "  inflating: UkraineWar/UkraineWar/0811_UkraineCombinedTweetsDeduped.csv.gzip  \n",
            "  inflating: UkraineWar/UkraineWar/0812_UkraineCombinedTweetsDeduped.csv.gzip  \n",
            "  inflating: UkraineWar/UkraineWar/0813_UkraineCombinedTweetsDeduped.csv.gzip  \n",
            "  inflating: UkraineWar/UkraineWar/0814_UkraineCombinedTweetsDeduped.csv.gzip  \n",
            "  inflating: UkraineWar/UkraineWar/0815_UkraineCombinedTweetsDeduped.csv.gzip  \n",
            "  inflating: UkraineWar/UkraineWar/0816_UkraineCombinedTweetsDeduped.csv.gzip  \n",
            "  inflating: UkraineWar/UkraineWar/0817_UkraineCombinedTweetsDeduped.csv.gzip  \n",
            "  inflating: UkraineWar/UkraineWar/0818_UkraineCombinedTweetsDeduped.csv.gzip  \n",
            "  inflating: UkraineWar/UkraineWar/UkraineCombinedTweetsDeduped20220227-131611.csv.gzip  \n",
            "  inflating: UkraineWar/UkraineWar/UkraineCombinedTweetsDeduped_FEB27.csv.gzip  \n",
            "  inflating: UkraineWar/UkraineWar/UkraineCombinedTweetsDeduped_FEB28_part1.csv.gzip  \n",
            "  inflating: UkraineWar/UkraineWar/UkraineCombinedTweetsDeduped_FEB28_part2.csv.gzip  \n",
            "  inflating: UkraineWar/UkraineWar/UkraineCombinedTweetsDeduped_MAR01.csv.gzip  \n",
            "  inflating: UkraineWar/UkraineWar/UkraineCombinedTweetsDeduped_MAR02.csv.gzip  \n",
            "  inflating: UkraineWar/UkraineWar/UkraineCombinedTweetsDeduped_MAR03.csv.gzip  \n",
            "  inflating: UkraineWar/UkraineWar/UkraineCombinedTweetsDeduped_MAR04.csv.gzip  \n",
            "  inflating: UkraineWar/UkraineWar/UkraineCombinedTweetsDeduped_MAR05.csv.gzip  \n",
            "  inflating: UkraineWar/UkraineWar/UkraineCombinedTweetsDeduped_MAR06.csv.gzip  \n",
            "  inflating: UkraineWar/UkraineWar/UkraineCombinedTweetsDeduped_MAR07.csv.gzip  \n",
            "  inflating: UkraineWar/UkraineWar/UkraineCombinedTweetsDeduped_MAR08.csv.gzip  \n",
            "  inflating: UkraineWar/UkraineWar/UkraineCombinedTweetsDeduped_MAR09.csv.gzip  \n",
            "  inflating: UkraineWar/UkraineWar/UkraineCombinedTweetsDeduped_MAR10.csv.gzip  \n",
            "  inflating: UkraineWar/UkraineWar/UkraineCombinedTweetsDeduped_MAR11.csv.gzip  \n",
            "  inflating: UkraineWar/UkraineWar/UkraineCombinedTweetsDeduped_MAR12.csv.gzip  \n",
            "  inflating: UkraineWar/UkraineWar/UkraineCombinedTweetsDeduped_MAR13.csv.gzip  \n",
            "  inflating: UkraineWar/UkraineWar/UkraineCombinedTweetsDeduped_MAR14.csv.gzip  \n",
            "  inflating: UkraineWar/UkraineWar/UkraineCombinedTweetsDeduped_MAR15.csv.gzip  \n",
            "  inflating: UkraineWar/UkraineWar/UkraineCombinedTweetsDeduped_MAR16.csv.gzip  \n",
            "  inflating: UkraineWar/UkraineWar/UkraineCombinedTweetsDeduped_MAR17.csv.gzip  \n",
            "  inflating: UkraineWar/UkraineWar/UkraineCombinedTweetsDeduped_MAR18.csv.gzip  \n",
            "  inflating: UkraineWar/UkraineWar/UkraineCombinedTweetsDeduped_MAR19.csv.gzip  \n",
            "  inflating: UkraineWar/UkraineWar/UkraineCombinedTweetsDeduped_MAR20.csv.gzip  \n",
            "  inflating: UkraineWar/UkraineWar/UkraineCombinedTweetsDeduped_MAR21.csv.gzip  \n",
            "  inflating: UkraineWar/UkraineWar/UkraineCombinedTweetsDeduped_MAR22.csv.gzip  \n",
            "  inflating: UkraineWar/UkraineWar/UkraineCombinedTweetsDeduped_MAR23.csv.gzip  \n",
            "  inflating: UkraineWar/UkraineWar/UkraineCombinedTweetsDeduped_MAR24.csv.gzip  \n",
            "  inflating: UkraineWar/UkraineWar/UkraineCombinedTweetsDeduped_MAR25.csv.gzip  \n",
            "  inflating: UkraineWar/UkraineWar/UkraineCombinedTweetsDeduped_MAR26.csv.gzip  \n",
            "  inflating: UkraineWar/UkraineWar/UkraineCombinedTweetsDeduped_MAR27_to_28.csv.gzip  \n",
            "  inflating: UkraineWar/UkraineWar/UkraineCombinedTweetsDeduped_MAR29.csv.gzip  \n",
            "  inflating: UkraineWar/UkraineWar/UkraineCombinedTweetsDeduped_MAR30.csv.gzip  \n",
            "  inflating: UkraineWar/UkraineWar/UkraineCombinedTweetsDeduped_MAR31.csv.gzip  \n"
          ]
        }
      ]
    },
    {
      "cell_type": "markdown",
      "source": [
        "I extract the collection of tweets from the (23 of September ?? ) and I will work on this."
      ],
      "metadata": {
        "id": "tJXDcwYpvcX3"
      }
    },
    {
      "cell_type": "code",
      "source": [
        "import csv\n",
        "import gzip\n",
        "\n",
        "data_list = []\n",
        "\n",
        "with gzip.open('1009_UkraineCombinedTweetsDeduped.csv.gzip', 'rt') as f:\n",
        "    reader = csv.DictReader(f)\n",
        "    for row in reader:\n",
        "        data_list.append(row)\n",
        "\n",
        "rdd = sc.parallelize(data_list)"
      ],
      "metadata": {
        "id": "p4Ir21JAqo7A"
      },
      "execution_count": 6,
      "outputs": []
    },
    {
      "cell_type": "code",
      "source": [
        "rdd.count()"
      ],
      "metadata": {
        "colab": {
          "base_uri": "https://localhost:8080/"
        },
        "id": "73CX7dxqvifD",
        "outputId": "c0ce01d4-2c2c-4fac-d1d7-2a0a1b26b909"
      },
      "execution_count": 7,
      "outputs": [
        {
          "output_type": "execute_result",
          "data": {
            "text/plain": [
              "66366"
            ]
          },
          "metadata": {},
          "execution_count": 7
        }
      ]
    },
    {
      "cell_type": "code",
      "source": [
        "rdd.first()"
      ],
      "metadata": {
        "colab": {
          "base_uri": "https://localhost:8080/"
        },
        "id": "zU0jV4agws7o",
        "outputId": "6ba8d5ad-ea0c-41a2-c653-601fdc2e7145"
      },
      "execution_count": 8,
      "outputs": [
        {
          "output_type": "execute_result",
          "data": {
            "text/plain": [
              "OrderedDict([('', '101923'),\n",
              "             ('userid', '1573729011364241409'),\n",
              "             ('username', 'funny0animals'),\n",
              "             ('acctdesc', 'Funny animals video 🥰🥰🥰'),\n",
              "             ('location', ''),\n",
              "             ('following', '1'),\n",
              "             ('followers', '15'),\n",
              "             ('totaltweets', '276'),\n",
              "             ('usercreatedts', '2022-09-24 17:40:19'),\n",
              "             ('tweetid', '1578898032850075649'),\n",
              "             ('tweetcreatedts', '2022-10-09 00:00:00'),\n",
              "             ('retweetcount', '0'),\n",
              "             ('text',\n",
              "              'Funny cat #CuteCats #CatsOfTwitter #cutevideo #Lyman #sexymonday #Kherson #1004DayWithJeonghan #Crypto #Kyiv #Zelensky #wealth #Bitcoin #지구에서년지성아환영해 #CrimeanBridge #кримськийміст https://t.co/waXCl5WeBE'),\n",
              "             ('hashtags',\n",
              "              \"[{'text': 'CuteCats', 'indices': [10, 19]}, {'text': 'CatsOfTwitter', 'indices': [20, 34]}, {'text': 'cutevideo', 'indices': [35, 45]}, {'text': 'Lyman', 'indices': [46, 52]}, {'text': 'sexymonday', 'indices': [53, 64]}, {'text': 'Kherson', 'indices': [65, 73]}, {'text': '1004DayWithJeonghan', 'indices': [74, 94]}, {'text': 'Crypto', 'indices': [95, 102]}, {'text': 'Kyiv', 'indices': [103, 108]}, {'text': 'Zelensky', 'indices': [109, 118]}, {'text': 'wealth', 'indices': [119, 126]}, {'text': 'Bitcoin', 'indices': [127, 135]}, {'text': '지구에서년지성아환영해', 'indices': [136, 148]}, {'text': 'CrimeanBridge', 'indices': [149, 163]}, {'text': 'кримськийміст', 'indices': [164, 178]}]\"),\n",
              "             ('language', 'en'),\n",
              "             ('coordinates', ''),\n",
              "             ('favorite_count', '2'),\n",
              "             ('is_retweet', 'False'),\n",
              "             ('original_tweet_id', '0'),\n",
              "             ('original_tweet_userid', '0'),\n",
              "             ('original_tweet_username', ''),\n",
              "             ('in_reply_to_status_id', '0'),\n",
              "             ('in_reply_to_user_id', '0'),\n",
              "             ('in_reply_to_screen_name', ''),\n",
              "             ('is_quote_status', 'False'),\n",
              "             ('quoted_status_id', '0'),\n",
              "             ('quoted_status_userid', '0'),\n",
              "             ('quoted_status_username', ''),\n",
              "             ('extractedts', '2022-10-09 07:30:25.563999')])"
            ]
          },
          "metadata": {},
          "execution_count": 8
        }
      ]
    },
    {
      "cell_type": "markdown",
      "source": [
        "Tokenize tweet by removing puntuation and stop words in order to have only meaningful words to understand the meaning of the tweet. I also put all the words lower case and remove the link at the end of the tweets."
      ],
      "metadata": {
        "id": "NcZfZcFbiFVm"
      }
    },
    {
      "cell_type": "code",
      "source": [
        "!pip install clean-text"
      ],
      "metadata": {
        "colab": {
          "base_uri": "https://localhost:8080/"
        },
        "id": "Vb1q3C3OxU6q",
        "outputId": "c1eb29e6-f126-4288-d51b-5902ae154903"
      },
      "execution_count": 9,
      "outputs": [
        {
          "output_type": "stream",
          "name": "stdout",
          "text": [
            "Looking in indexes: https://pypi.org/simple, https://us-python.pkg.dev/colab-wheels/public/simple/\n",
            "Collecting clean-text\n",
            "  Downloading clean_text-0.6.0-py3-none-any.whl (11 kB)\n",
            "Collecting emoji<2.0.0,>=1.0.0\n",
            "  Downloading emoji-1.7.0.tar.gz (175 kB)\n",
            "\u001b[K     |████████████████████████████████| 175 kB 2.0 MB/s \n",
            "\u001b[?25hCollecting ftfy<7.0,>=6.0\n",
            "  Downloading ftfy-6.1.1-py3-none-any.whl (53 kB)\n",
            "\u001b[K     |████████████████████████████████| 53 kB 1.5 MB/s \n",
            "\u001b[?25hRequirement already satisfied: wcwidth>=0.2.5 in /usr/local/lib/python3.7/dist-packages (from ftfy<7.0,>=6.0->clean-text) (0.2.5)\n",
            "Building wheels for collected packages: emoji\n",
            "  Building wheel for emoji (setup.py) ... \u001b[?25l\u001b[?25hdone\n",
            "  Created wheel for emoji: filename=emoji-1.7.0-py3-none-any.whl size=171046 sha256=d06db0a4b9b0c809a651292bf23018074eb4adc47db76725a0a5fd1801d9d3dc\n",
            "  Stored in directory: /root/.cache/pip/wheels/8a/4e/b6/57b01db010d17ef6ea9b40300af725ef3e210cb1acfb7ac8b6\n",
            "Successfully built emoji\n",
            "Installing collected packages: ftfy, emoji, clean-text\n",
            "Successfully installed clean-text-0.6.0 emoji-1.7.0 ftfy-6.1.1\n"
          ]
        }
      ]
    },
    {
      "cell_type": "code",
      "source": [
        "import nltk\n",
        "from nltk.tokenize import TweetTokenizer\n",
        "from nltk.corpus import stopwords\n",
        "from string import punctuation\n",
        "from cleantext import clean\n",
        "\n",
        "nltk.download('stopwords')\n",
        "stopw = set(stopwords.words('english'))\n",
        "\n",
        "tokenizer = TweetTokenizer()\n",
        "#tokenize = lambda text: [word for word in tokenizer.tokenize(clean(text, no_urls=True, no_emails=True, no_emoji=True, no_line_breaks=True, replace_with_email=\"\", replace_with_url=\"\")) if word not in punctuation and word not in stopw]\n",
        "tokenize = lambda text: [word for word in tokenizer.tokenize(clean(text, no_urls=True, no_emails=True, no_emoji=True, no_line_breaks=True, replace_with_email=\"\", replace_with_url=\"\")) if word not in punctuation]"
      ],
      "metadata": {
        "colab": {
          "base_uri": "https://localhost:8080/"
        },
        "id": "vKGpVdvFf1qs",
        "outputId": "7c91f1a2-57a1-41fc-d555-b82e07c89faf"
      },
      "execution_count": 10,
      "outputs": [
        {
          "output_type": "stream",
          "name": "stderr",
          "text": [
            "WARNING:root:Since the GPL-licensed package `unidecode` is not installed, using Python's `unicodedata` package which yields worse results.\n",
            "[nltk_data] Downloading package stopwords to /root/nltk_data...\n",
            "[nltk_data]   Unzipping corpora/stopwords.zip.\n"
          ]
        }
      ]
    },
    {
      "cell_type": "code",
      "source": [
        "import numpy as np\n",
        "\n",
        "def sort(list):\n",
        "  list.sort()\n",
        "  return list\n",
        "\n",
        "en_tweets = rdd.filter(lambda x: x.get(\"language\")=='en').map(lambda x: (x, x.get(\"text\")))\n",
        "\n",
        "tweets_tokenized = en_tweets.map(lambda x: (x[0].get(\"text\"), tokenize(x[1])))\n",
        "\n",
        "tweets_tokenized.first()"
      ],
      "metadata": {
        "colab": {
          "base_uri": "https://localhost:8080/"
        },
        "id": "pjNQnsNLhLJo",
        "outputId": "54c1fc78-df69-4943-93ef-f6999ff50d9e"
      },
      "execution_count": 12,
      "outputs": [
        {
          "output_type": "execute_result",
          "data": {
            "text/plain": [
              "('Funny cat #CuteCats #CatsOfTwitter #cutevideo #Lyman #sexymonday #Kherson #1004DayWithJeonghan #Crypto #Kyiv #Zelensky #wealth #Bitcoin #지구에서년지성아환영해 #CrimeanBridge #кримськийміст https://t.co/waXCl5WeBE',\n",
              " ['funny',\n",
              "  'cat',\n",
              "  '#cutecats',\n",
              "  '#catsoftwitter',\n",
              "  '#cutevideo',\n",
              "  '#lyman',\n",
              "  '#sexymonday',\n",
              "  '#kherson',\n",
              "  '#1004daywithjeonghan',\n",
              "  '#crypto',\n",
              "  '#kyiv',\n",
              "  '#zelensky',\n",
              "  '#wealth',\n",
              "  '#bitcoin',\n",
              "  '#crimeanbridge'])"
            ]
          },
          "metadata": {},
          "execution_count": 12
        }
      ]
    },
    {
      "cell_type": "code",
      "source": [
        "from pyspark.sql.types import StructType,StructField, StringType, ArrayType\n",
        "\n",
        "dfSchema = StructType([       \n",
        "    StructField('tweet', StringType(), True),\n",
        "    StructField('tokens', ArrayType(StringType()), True)\n",
        "])\n",
        "\n",
        "tmp = tweets_tokenized.map(lambda x: (x[0], x[1]))\n",
        "tweetsDF = spark.createDataFrame(tmp, dfSchema)\n",
        "\n",
        "tweetsDF.show()"
      ],
      "metadata": {
        "colab": {
          "base_uri": "https://localhost:8080/"
        },
        "id": "W9GDwUytD4mg",
        "outputId": "dba4f030-1ce8-4bc1-cebb-992893b6160d"
      },
      "execution_count": 14,
      "outputs": [
        {
          "output_type": "stream",
          "name": "stdout",
          "text": [
            "+--------------------+--------------------+\n",
            "|               tweet|              tokens|\n",
            "+--------------------+--------------------+\n",
            "|Funny cat #CuteCa...|[funny, cat, #cut...|\n",
            "|#SyriaTalks #Refu...|[#syriatalks, #re...|\n",
            "|What's your NATO ...|[what's, your, na...|\n",
            "|Happy 70th birthd...|[happy, 70th, bir...|\n",
            "|Zaporizhzhia. 9th...|[zaporizhzhia, 9t...|\n",
            "|Vladimir #Putin’s...|[vladimir, #putin...|\n",
            "|\"The bridge to #C...|[the, bridge, to,...|\n",
            "|They specially ta...|[they, specially,...|\n",
            "|#russia lukin lik...|[#russia, lukin, ...|\n",
            "|Happy 70th birthd...|[happy, 70th, bir...|\n",
            "|@ZelenskyyUa @KGe...|[@zelenskyyua, @k...|\n",
            "|As #CrimeaBridge ...|[as, #crimeabridg...|\n",
            "|Oh, my god, I hat...|[oh, my, god, i, ...|\n",
            "|It was a very tou...|[it, was, a, very...|\n",
            "|Right now, 10 Rus...|[right, now, 10, ...|\n",
            "|@AVindman I think...|[@avindman, i, th...|\n",
            "|🗣️help your self...|[help, your, self...|\n",
            "|Happy 70th birthd...|[happy, 70th, bir...|\n",
            "|The shelling of r...|[the, shelling, o...|\n",
            "|#odessa #odesa #u...|[#odessa, #odesa,...|\n",
            "+--------------------+--------------------+\n",
            "only showing top 20 rows\n",
            "\n"
          ]
        }
      ]
    },
    {
      "cell_type": "markdown",
      "source": [
        "## *K*-Shingles"
      ],
      "metadata": {
        "id": "RJqYhIj4w2sM"
      }
    },
    {
      "cell_type": "code",
      "source": [
        "K = int(input(\"Enter the number K for shingles dimension: \"))\n",
        "\n",
        "def build_shingles(tokens, K):\n",
        "  shingles = list()\n",
        "  tmp = \"\"\n",
        "\n",
        "  for i in range(len(tokens)):\n",
        "    tmp = tokens[i]\n",
        "    if((len(tokens) - (i)) < K):\n",
        "      break;\n",
        "    for k in range(K - 1):\n",
        "      tmp += \" \" + tokens[i + (k + 1)]\n",
        "    shingles.append(tmp)\n",
        "\n",
        "  return shingles\n",
        "\n",
        "shingles_rdd = tweetsDF.rdd.map(lambda x: (x[0], sort(build_shingles(x[1], K))))\n",
        "shingles_rdd.first()"
      ],
      "metadata": {
        "colab": {
          "base_uri": "https://localhost:8080/"
        },
        "id": "lzQVwkvSNKwr",
        "outputId": "e982a200-a388-4747-8e4a-3f900c911e02"
      },
      "execution_count": 20,
      "outputs": [
        {
          "name": "stdout",
          "output_type": "stream",
          "text": [
            "Enter the number K for shingles dimension: 3\n"
          ]
        },
        {
          "output_type": "execute_result",
          "data": {
            "text/plain": [
              "('Funny cat #CuteCats #CatsOfTwitter #cutevideo #Lyman #sexymonday #Kherson #1004DayWithJeonghan #Crypto #Kyiv #Zelensky #wealth #Bitcoin #지구에서년지성아환영해 #CrimeanBridge #кримськийміст https://t.co/waXCl5WeBE',\n",
              " ['#1004daywithjeonghan #crypto #kyiv',\n",
              "  '#catsoftwitter #cutevideo #lyman',\n",
              "  '#crypto #kyiv #zelensky',\n",
              "  '#cutecats #catsoftwitter #cutevideo',\n",
              "  '#cutevideo #lyman #sexymonday',\n",
              "  '#kherson #1004daywithjeonghan #crypto',\n",
              "  '#kyiv #zelensky #wealth',\n",
              "  '#lyman #sexymonday #kherson',\n",
              "  '#sexymonday #kherson #1004daywithjeonghan',\n",
              "  '#wealth #bitcoin #crimeanbridge',\n",
              "  '#zelensky #wealth #bitcoin',\n",
              "  'cat #cutecats #catsoftwitter',\n",
              "  'funny cat #cutecats'])"
            ]
          },
          "metadata": {},
          "execution_count": 20
        }
      ]
    },
    {
      "cell_type": "code",
      "source": [
        "shingles_bag = sort(list(set(shingles_rdd.flatMap(lambda x: x[1]).collect())))\n",
        "shingles_bag[0:10]"
      ],
      "metadata": {
        "colab": {
          "base_uri": "https://localhost:8080/"
        },
        "id": "VCFcbUsQtcFA",
        "outputId": "26e312b0-d289-4abd-fcb6-a3e9dd6bf6c3"
      },
      "execution_count": 36,
      "outputs": [
        {
          "output_type": "execute_result",
          "data": {
            "text/plain": [
              "['###europeanunion are likely',\n",
              " '##brazil #lulano1turno #crimeanbridge',\n",
              " '##fakenews #humor #humour',\n",
              " '##istandwithukraine #russiainvadedukraine #russiaiscommitingenocide',\n",
              " '##kerch #crimeanbridge #crimea',\n",
              " '##latvia #lithuania #poland',\n",
              " '##navigation #google #maps',\n",
              " '##rosenberg #hakim #deaf_government',\n",
              " '##russia either people',\n",
              " '##swiped had its']"
            ]
          },
          "metadata": {},
          "execution_count": 36
        }
      ]
    },
    {
      "cell_type": "markdown",
      "source": [
        "I use integers from 0 to *n* (with n equal to the length of shgles_bag) to store the shingles list"
      ],
      "metadata": {
        "id": "7WwWmOI1kJ9U"
      }
    },
    {
      "cell_type": "code",
      "source": [
        "shingles_bag_id = list(range(0, len(shingles_bag)))"
      ],
      "metadata": {
        "colab": {
          "base_uri": "https://localhost:8080/"
        },
        "id": "Wqt0SGYGd6eJ",
        "outputId": "f83e288c-434f-4053-d1f1-6840ca7a4542"
      },
      "execution_count": 37,
      "outputs": [
        {
          "output_type": "execute_result",
          "data": {
            "text/plain": [
              "492968"
            ]
          },
          "metadata": {},
          "execution_count": 37
        }
      ]
    },
    {
      "cell_type": "code",
      "source": [
        "def convertShingles(shingles, BoS, BoS_id):\n",
        "  listToReturn = list()\n",
        "  start_index = 0;\n",
        "\n",
        "  for s in shingles:\n",
        "    for i in range(start_index, len(BoS)):\n",
        "      if(s == BoS[i]):\n",
        "        listToReturn.append(BoS_id[i])\n",
        "        start_index = i\n",
        "        break;\n",
        "\n",
        "  return listToReturn\n",
        "\n",
        "shingles_int_rdd = shingles_rdd.map(lambda x: (x[0], convertShingles(x[1], shingles_bag, shingles_bag_id)))\n",
        "shingles_int_rdd.take(10)"
      ],
      "metadata": {
        "colab": {
          "base_uri": "https://localhost:8080/"
        },
        "id": "RTcDkiCAkf1w",
        "outputId": "bdaca69b-790f-45cc-d982-bed167c25fd3"
      },
      "execution_count": 39,
      "outputs": [
        {
          "output_type": "execute_result",
          "data": {
            "text/plain": [
              "[('Funny cat #CuteCats #CatsOfTwitter #cutevideo #Lyman #sexymonday #Kherson #1004DayWithJeonghan #Crypto #Kyiv #Zelensky #wealth #Bitcoin #지구에서년지성아환영해 #CrimeanBridge #кримськийміст https://t.co/waXCl5WeBE',\n",
              "  [30,\n",
              "   5944,\n",
              "   10305,\n",
              "   10539,\n",
              "   10542,\n",
              "   20985,\n",
              "   22120,\n",
              "   23476,\n",
              "   43211,\n",
              "   58590,\n",
              "   60753,\n",
              "   156302,\n",
              "   212547]),\n",
              " ('#SyriaTalks #RefugeeCrisis #Putin  1 author encyclopedia site:#Ummah-state to #Dictatorship https://t.co/Bf7gJ1HZOG https://t.co/rexwGyzjab',\n",
              "  [31372, 33934, 46309, 56179, 63296, 131122, 189009, 376860]),\n",
              " (\"What's your NATO plan?\\n\\n#nato #ww3 #ukraine #war #russia #UkraineRussiaWar https://t.co/IYpLrmwMpX\",\n",
              "  [25998, 50397, 58090, 59412, 298117, 337812, 471067, 490936]),\n",
              " ('Happy 70th birthday, Mr Putin\\n... here is the fireworks display from #Crimea, #Ukraine \\n\\nPS - your tanks are running out of diesel fuel🤣🤣🤣 https://t.co/CYqrYsdchh',\n",
              "  [8212,\n",
              "   52247,\n",
              "   62454,\n",
              "   70039,\n",
              "   123012,\n",
              "   141558,\n",
              "   181170,\n",
              "   200981,\n",
              "   209361,\n",
              "   222047,\n",
              "   229340,\n",
              "   258187,\n",
              "   294377,\n",
              "   313079,\n",
              "   330264,\n",
              "   345806,\n",
              "   346790,\n",
              "   360128,\n",
              "   393701,\n",
              "   407774,\n",
              "   491312]),\n",
              " ('Zaporizhzhia. 9th of October. \\n2 a.m.\\nPeople were sleeping in their beds. And they were shelled by russians.\\n#RussiaIsATerroristState #Zaporizhzhia #UkraineUnderAttack #RussianInvasion #WarCrimes #RussiaIsANaziState #RussianUkrainewar https://t.co/qqLcGQJ2XQ',\n",
              "  [38584,\n",
              "   41195,\n",
              "   54465,\n",
              "   58308,\n",
              "   60135,\n",
              "   65478,\n",
              "   70836,\n",
              "   92656,\n",
              "   116887,\n",
              "   137298,\n",
              "   151986,\n",
              "   247120,\n",
              "   281366,\n",
              "   309889,\n",
              "   315036,\n",
              "   335814,\n",
              "   364421,\n",
              "   373236,\n",
              "   377535,\n",
              "   418017,\n",
              "   423258,\n",
              "   469144,\n",
              "   469160,\n",
              "   492013]),\n",
              " ('Vladimir #Putin’s army is in a bit of a pickle\\n\\nhttps://t.co/Y2m0oigyR5',\n",
              "  [32745, 89957, 124848, 141668, 243105, 255767, 311787, 458829]),\n",
              " ('\"The bridge to #Crimea seems to have reopened quickly enough. The rest of us need not care whether that Peninsula was controlled by the #WagnerGroup or the #AzovBattalion. But the Azov Battalion should care.\" #Russia #Ukraine @ClarkeMicah @georgegalloway https://t.co/Q6b7WsD6Cv',\n",
              "  [2402,\n",
              "   8571,\n",
              "   35443,\n",
              "   50606,\n",
              "   57991,\n",
              "   131927,\n",
              "   133686,\n",
              "   146735,\n",
              "   150069,\n",
              "   152169,\n",
              "   155581,\n",
              "   155681,\n",
              "   166821,\n",
              "   190118,\n",
              "   225408,\n",
              "   299108,\n",
              "   304601,\n",
              "   318513,\n",
              "   327601,\n",
              "   334554,\n",
              "   348670,\n",
              "   354472,\n",
              "   356410,\n",
              "   370658,\n",
              "   374432,\n",
              "   399649,\n",
              "   401335,\n",
              "   403149,\n",
              "   404183,\n",
              "   405033,\n",
              "   413340,\n",
              "   430281,\n",
              "   434470,\n",
              "   454428,\n",
              "   463385,\n",
              "   472319]),\n",
              " ('They specially target apartment blocks at night to kill more people\\n#RussiaIsATerroristState',\n",
              "  [120077,\n",
              "   128959,\n",
              "   142585,\n",
              "   268358,\n",
              "   292605,\n",
              "   302174,\n",
              "   382575,\n",
              "   393868,\n",
              "   423017,\n",
              "   435145]),\n",
              " ('#russia lukin like billy big bollocks', [36599, 141363, 276117, 281175]),\n",
              " ('Happy 70th birthday, Mr Putin\\n... here is the fireworks display from #Crimea, #Ukraine \\n\\nPS - your tanks are running out of diesel fuel🤣🤣🤣 https://t.co/uMKHvsxXw9',\n",
              "  [8212,\n",
              "   52247,\n",
              "   62454,\n",
              "   70039,\n",
              "   123012,\n",
              "   141558,\n",
              "   181170,\n",
              "   200981,\n",
              "   209361,\n",
              "   222047,\n",
              "   229340,\n",
              "   258187,\n",
              "   294377,\n",
              "   313079,\n",
              "   330264,\n",
              "   345806,\n",
              "   346790,\n",
              "   360128,\n",
              "   393701,\n",
              "   407774,\n",
              "   491312])]"
            ]
          },
          "metadata": {},
          "execution_count": 39
        }
      ]
    }
  ]
}